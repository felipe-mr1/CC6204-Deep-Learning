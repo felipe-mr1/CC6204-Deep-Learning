{
  "nbformat": 4,
  "nbformat_minor": 0,
  "metadata": {
    "colab": {
      "provenance": [],
      "collapsed_sections": []
    },
    "kernelspec": {
      "name": "python3",
      "display_name": "Python 3"
    },
    "language_info": {
      "name": "python"
    }
  },
  "cells": [
    {
      "cell_type": "markdown",
      "source": [
        "# **CC6204 - Deep Learning**\n",
        "\n",
        "## Alumno: Felipe Morales\n",
        "\n",
        "## **Predicción de riesgo de diabetes en etapas tempranas**\n",
        "\n",
        "En esta tarea vas a desarrollar un modelo de aprendizaje que sea capaz de  determinar si una persona tiene riesgo de paceder diabetes en un futuro. Los datos han sido coleccionados a través de encuestas a pacientes en el Sylhet Diabetes Hospital en Bangladesh. Los datos han sido curados y verificados por profesionales de la salud, por lo que son confiables para crear un modelo de aprendizaje.\n",
        "\n",
        "Primero vamos a importar los paquetes necesarios para trabajar en estos datos."
      ],
      "metadata": {
        "id": "O_emFGVipW5T"
      }
    },
    {
      "cell_type": "code",
      "source": [
        "import pathlib\n",
        "\n",
        "import matplotlib.pyplot as plt\n",
        "import pandas as pd\n",
        "import numpy as np\n",
        "import random\n",
        "from sklearn.utils import shuffle\n",
        "\n",
        "#Packages to use pytorch\n",
        "import torch\n",
        "import torch.nn as nn \n",
        "import torch.nn.functional as F\n",
        "import torch.optim as optim\n",
        "import torch.utils.data as data\n",
        "\n",
        "import sys\n",
        "\n",
        "#We explicitly set the random seed in order to get the same results in each run\n",
        "SEED = 8\n",
        "\n",
        "random.seed(SEED)\n",
        "np.random.seed(SEED)\n",
        "torch.manual_seed(SEED)\n",
        "torch.cuda.manual_seed(SEED)\n",
        "torch.backends.cudnn.deterministic = True"
      ],
      "metadata": {
        "id": "05yDKKyhzMMe"
      },
      "execution_count": 1,
      "outputs": []
    },
    {
      "cell_type": "markdown",
      "source": [
        "## **Descarga de archivo de datos**\n",
        "Los datos están disponibles en un archivo CSV que contiene 520 muestras de 17 atributos. Los atributos son:\n",
        "\n",
        "*   Age: numérico\n",
        "*   Género: \\[Male, Female\\]\n",
        "*   Polyuria\n",
        "*   Polydipsia\n",
        "*   sudden weight loss\n",
        "*   weakness\n",
        "*   Polyphagia\n",
        "*   Genital thrush\n",
        "*   visual blurring\n",
        "*   Itching\n",
        "*   Irritability \n",
        "*   delayed healing \n",
        "*   partial paresis \n",
        "*   muscle stiffness\n",
        "*   Alopecia\n",
        "*   Obesity\n",
        "*   Class: \\[Positive, Negative\\]\n",
        "\n",
        "Todos los atributos descritos sin valores tienen el conjunto \\[Yes, No\\]. \n",
        "\n",
        "En la siguiente celda de código, descargamos el archivo y lo leemos con Pandas. Finalmente, visualizamos algunos datos del conjunto.\n",
        "\n"
      ],
      "metadata": {
        "id": "VP3RKsqXr9Ni"
      }
    },
    {
      "cell_type": "code",
      "source": [
        "!wget https://archive.ics.uci.edu/ml/machine-learning-databases/00529/diabetes_data_upload.csv\n",
        "dataset_path = 'diabetes_data_upload.csv'"
      ],
      "metadata": {
        "id": "mObgujPHmuBi",
        "colab": {
          "base_uri": "https://localhost:8080/"
        },
        "outputId": "c83a0678-126f-4ae7-cbd1-bc8ca91b71f0"
      },
      "execution_count": 2,
      "outputs": [
        {
          "output_type": "stream",
          "name": "stdout",
          "text": [
            "--2022-09-21 01:05:14--  https://archive.ics.uci.edu/ml/machine-learning-databases/00529/diabetes_data_upload.csv\n",
            "Resolving archive.ics.uci.edu (archive.ics.uci.edu)... 128.195.10.252\n",
            "Connecting to archive.ics.uci.edu (archive.ics.uci.edu)|128.195.10.252|:443... connected.\n",
            "HTTP request sent, awaiting response... 200 OK\n",
            "Length: 34682 (34K) [application/x-httpd-php]\n",
            "Saving to: ‘diabetes_data_upload.csv’\n",
            "\n",
            "diabetes_data_uploa 100%[===================>]  33.87K  --.-KB/s    in 0.07s   \n",
            "\n",
            "2022-09-21 01:05:15 (495 KB/s) - ‘diabetes_data_upload.csv’ saved [34682/34682]\n",
            "\n"
          ]
        }
      ]
    },
    {
      "cell_type": "code",
      "source": [
        "column_names = ['Age','Gender','Polyuria','Polydipsia','sudden weight loss',\n",
        "                'weakness', 'Polyphagia', 'Genital thrush', 'visual blurring','Itching', 'Irritability', 'delayed healing',\n",
        "                'partial paresis', 'muscle stiffness', 'Alopecia', 'Obesity', 'class']\n",
        "raw_dataset = pd.read_csv(dataset_path, names=column_names,\n",
        "                      na_values = \"?\", comment='\\t',\n",
        "                      sep=\",\", skipinitialspace=True, header=1)\n",
        "\n",
        "dataset = raw_dataset.copy()\n",
        "dataset.head()"
      ],
      "metadata": {
        "id": "eqQvbIZuzPsb",
        "colab": {
          "base_uri": "https://localhost:8080/",
          "height": 267
        },
        "outputId": "4515e312-1b2a-4089-d550-4fc5c5043593"
      },
      "execution_count": 3,
      "outputs": [
        {
          "output_type": "execute_result",
          "data": {
            "text/plain": [
              "   Age Gender Polyuria Polydipsia sudden weight loss weakness Polyphagia  \\\n",
              "0   58   Male       No         No                 No      Yes         No   \n",
              "1   41   Male      Yes         No                 No      Yes        Yes   \n",
              "2   45   Male       No         No                Yes      Yes        Yes   \n",
              "3   60   Male      Yes        Yes                Yes      Yes        Yes   \n",
              "4   55   Male      Yes        Yes                 No      Yes        Yes   \n",
              "\n",
              "  Genital thrush visual blurring Itching Irritability delayed healing  \\\n",
              "0             No             Yes      No           No              No   \n",
              "1             No              No     Yes           No             Yes   \n",
              "2            Yes              No     Yes           No             Yes   \n",
              "3             No             Yes     Yes          Yes             Yes   \n",
              "4             No             Yes     Yes           No             Yes   \n",
              "\n",
              "  partial paresis muscle stiffness Alopecia Obesity     class  \n",
              "0             Yes               No      Yes      No  Positive  \n",
              "1              No              Yes      Yes      No  Positive  \n",
              "2              No               No       No      No  Positive  \n",
              "3             Yes              Yes      Yes     Yes  Positive  \n",
              "4              No              Yes      Yes     Yes  Positive  "
            ],
            "text/html": [
              "\n",
              "  <div id=\"df-fa0bff12-f707-4c63-8271-fd16d221f19b\">\n",
              "    <div class=\"colab-df-container\">\n",
              "      <div>\n",
              "<style scoped>\n",
              "    .dataframe tbody tr th:only-of-type {\n",
              "        vertical-align: middle;\n",
              "    }\n",
              "\n",
              "    .dataframe tbody tr th {\n",
              "        vertical-align: top;\n",
              "    }\n",
              "\n",
              "    .dataframe thead th {\n",
              "        text-align: right;\n",
              "    }\n",
              "</style>\n",
              "<table border=\"1\" class=\"dataframe\">\n",
              "  <thead>\n",
              "    <tr style=\"text-align: right;\">\n",
              "      <th></th>\n",
              "      <th>Age</th>\n",
              "      <th>Gender</th>\n",
              "      <th>Polyuria</th>\n",
              "      <th>Polydipsia</th>\n",
              "      <th>sudden weight loss</th>\n",
              "      <th>weakness</th>\n",
              "      <th>Polyphagia</th>\n",
              "      <th>Genital thrush</th>\n",
              "      <th>visual blurring</th>\n",
              "      <th>Itching</th>\n",
              "      <th>Irritability</th>\n",
              "      <th>delayed healing</th>\n",
              "      <th>partial paresis</th>\n",
              "      <th>muscle stiffness</th>\n",
              "      <th>Alopecia</th>\n",
              "      <th>Obesity</th>\n",
              "      <th>class</th>\n",
              "    </tr>\n",
              "  </thead>\n",
              "  <tbody>\n",
              "    <tr>\n",
              "      <th>0</th>\n",
              "      <td>58</td>\n",
              "      <td>Male</td>\n",
              "      <td>No</td>\n",
              "      <td>No</td>\n",
              "      <td>No</td>\n",
              "      <td>Yes</td>\n",
              "      <td>No</td>\n",
              "      <td>No</td>\n",
              "      <td>Yes</td>\n",
              "      <td>No</td>\n",
              "      <td>No</td>\n",
              "      <td>No</td>\n",
              "      <td>Yes</td>\n",
              "      <td>No</td>\n",
              "      <td>Yes</td>\n",
              "      <td>No</td>\n",
              "      <td>Positive</td>\n",
              "    </tr>\n",
              "    <tr>\n",
              "      <th>1</th>\n",
              "      <td>41</td>\n",
              "      <td>Male</td>\n",
              "      <td>Yes</td>\n",
              "      <td>No</td>\n",
              "      <td>No</td>\n",
              "      <td>Yes</td>\n",
              "      <td>Yes</td>\n",
              "      <td>No</td>\n",
              "      <td>No</td>\n",
              "      <td>Yes</td>\n",
              "      <td>No</td>\n",
              "      <td>Yes</td>\n",
              "      <td>No</td>\n",
              "      <td>Yes</td>\n",
              "      <td>Yes</td>\n",
              "      <td>No</td>\n",
              "      <td>Positive</td>\n",
              "    </tr>\n",
              "    <tr>\n",
              "      <th>2</th>\n",
              "      <td>45</td>\n",
              "      <td>Male</td>\n",
              "      <td>No</td>\n",
              "      <td>No</td>\n",
              "      <td>Yes</td>\n",
              "      <td>Yes</td>\n",
              "      <td>Yes</td>\n",
              "      <td>Yes</td>\n",
              "      <td>No</td>\n",
              "      <td>Yes</td>\n",
              "      <td>No</td>\n",
              "      <td>Yes</td>\n",
              "      <td>No</td>\n",
              "      <td>No</td>\n",
              "      <td>No</td>\n",
              "      <td>No</td>\n",
              "      <td>Positive</td>\n",
              "    </tr>\n",
              "    <tr>\n",
              "      <th>3</th>\n",
              "      <td>60</td>\n",
              "      <td>Male</td>\n",
              "      <td>Yes</td>\n",
              "      <td>Yes</td>\n",
              "      <td>Yes</td>\n",
              "      <td>Yes</td>\n",
              "      <td>Yes</td>\n",
              "      <td>No</td>\n",
              "      <td>Yes</td>\n",
              "      <td>Yes</td>\n",
              "      <td>Yes</td>\n",
              "      <td>Yes</td>\n",
              "      <td>Yes</td>\n",
              "      <td>Yes</td>\n",
              "      <td>Yes</td>\n",
              "      <td>Yes</td>\n",
              "      <td>Positive</td>\n",
              "    </tr>\n",
              "    <tr>\n",
              "      <th>4</th>\n",
              "      <td>55</td>\n",
              "      <td>Male</td>\n",
              "      <td>Yes</td>\n",
              "      <td>Yes</td>\n",
              "      <td>No</td>\n",
              "      <td>Yes</td>\n",
              "      <td>Yes</td>\n",
              "      <td>No</td>\n",
              "      <td>Yes</td>\n",
              "      <td>Yes</td>\n",
              "      <td>No</td>\n",
              "      <td>Yes</td>\n",
              "      <td>No</td>\n",
              "      <td>Yes</td>\n",
              "      <td>Yes</td>\n",
              "      <td>Yes</td>\n",
              "      <td>Positive</td>\n",
              "    </tr>\n",
              "  </tbody>\n",
              "</table>\n",
              "</div>\n",
              "      <button class=\"colab-df-convert\" onclick=\"convertToInteractive('df-fa0bff12-f707-4c63-8271-fd16d221f19b')\"\n",
              "              title=\"Convert this dataframe to an interactive table.\"\n",
              "              style=\"display:none;\">\n",
              "        \n",
              "  <svg xmlns=\"http://www.w3.org/2000/svg\" height=\"24px\"viewBox=\"0 0 24 24\"\n",
              "       width=\"24px\">\n",
              "    <path d=\"M0 0h24v24H0V0z\" fill=\"none\"/>\n",
              "    <path d=\"M18.56 5.44l.94 2.06.94-2.06 2.06-.94-2.06-.94-.94-2.06-.94 2.06-2.06.94zm-11 1L8.5 8.5l.94-2.06 2.06-.94-2.06-.94L8.5 2.5l-.94 2.06-2.06.94zm10 10l.94 2.06.94-2.06 2.06-.94-2.06-.94-.94-2.06-.94 2.06-2.06.94z\"/><path d=\"M17.41 7.96l-1.37-1.37c-.4-.4-.92-.59-1.43-.59-.52 0-1.04.2-1.43.59L10.3 9.45l-7.72 7.72c-.78.78-.78 2.05 0 2.83L4 21.41c.39.39.9.59 1.41.59.51 0 1.02-.2 1.41-.59l7.78-7.78 2.81-2.81c.8-.78.8-2.07 0-2.86zM5.41 20L4 18.59l7.72-7.72 1.47 1.35L5.41 20z\"/>\n",
              "  </svg>\n",
              "      </button>\n",
              "      \n",
              "  <style>\n",
              "    .colab-df-container {\n",
              "      display:flex;\n",
              "      flex-wrap:wrap;\n",
              "      gap: 12px;\n",
              "    }\n",
              "\n",
              "    .colab-df-convert {\n",
              "      background-color: #E8F0FE;\n",
              "      border: none;\n",
              "      border-radius: 50%;\n",
              "      cursor: pointer;\n",
              "      display: none;\n",
              "      fill: #1967D2;\n",
              "      height: 32px;\n",
              "      padding: 0 0 0 0;\n",
              "      width: 32px;\n",
              "    }\n",
              "\n",
              "    .colab-df-convert:hover {\n",
              "      background-color: #E2EBFA;\n",
              "      box-shadow: 0px 1px 2px rgba(60, 64, 67, 0.3), 0px 1px 3px 1px rgba(60, 64, 67, 0.15);\n",
              "      fill: #174EA6;\n",
              "    }\n",
              "\n",
              "    [theme=dark] .colab-df-convert {\n",
              "      background-color: #3B4455;\n",
              "      fill: #D2E3FC;\n",
              "    }\n",
              "\n",
              "    [theme=dark] .colab-df-convert:hover {\n",
              "      background-color: #434B5C;\n",
              "      box-shadow: 0px 1px 3px 1px rgba(0, 0, 0, 0.15);\n",
              "      filter: drop-shadow(0px 1px 2px rgba(0, 0, 0, 0.3));\n",
              "      fill: #FFFFFF;\n",
              "    }\n",
              "  </style>\n",
              "\n",
              "      <script>\n",
              "        const buttonEl =\n",
              "          document.querySelector('#df-fa0bff12-f707-4c63-8271-fd16d221f19b button.colab-df-convert');\n",
              "        buttonEl.style.display =\n",
              "          google.colab.kernel.accessAllowed ? 'block' : 'none';\n",
              "\n",
              "        async function convertToInteractive(key) {\n",
              "          const element = document.querySelector('#df-fa0bff12-f707-4c63-8271-fd16d221f19b');\n",
              "          const dataTable =\n",
              "            await google.colab.kernel.invokeFunction('convertToInteractive',\n",
              "                                                     [key], {});\n",
              "          if (!dataTable) return;\n",
              "\n",
              "          const docLinkHtml = 'Like what you see? Visit the ' +\n",
              "            '<a target=\"_blank\" href=https://colab.research.google.com/notebooks/data_table.ipynb>data table notebook</a>'\n",
              "            + ' to learn more about interactive tables.';\n",
              "          element.innerHTML = '';\n",
              "          dataTable['output_type'] = 'display_data';\n",
              "          await google.colab.output.renderOutput(dataTable, element);\n",
              "          const docLink = document.createElement('div');\n",
              "          docLink.innerHTML = docLinkHtml;\n",
              "          element.appendChild(docLink);\n",
              "        }\n",
              "      </script>\n",
              "    </div>\n",
              "  </div>\n",
              "  "
            ]
          },
          "metadata": {},
          "execution_count": 3
        }
      ]
    },
    {
      "cell_type": "markdown",
      "source": [
        "# **Pre-procesamiento del conjunto de datos**\n",
        "El conjunto de datos es variado. El atributo \"Age\" es el único atributo numérico. Todos los demás atributos son nominales. Para procesar los datos nominales en una red neuronal, es mejor convertirlos a una representación numérica. En el siguiente ejemplo transformamos el atributo \"Gender\" con valores nominales \"Female\" y \"Male\" a valores 1.0 y 0.0, respectivamente.\n",
        "\n",
        "Del mismo modo, cambiamos los valores nominales de todos los atributos a valores 0.0 y 1.0."
      ],
      "metadata": {
        "id": "KtRzLcq_3ecc"
      }
    },
    {
      "cell_type": "code",
      "source": [
        "gender = dataset.pop('Gender')\n",
        "dataset['gender'] = (gender == 'Female')*1.0\n",
        "\n",
        "column_class = dataset.pop('class')\n",
        "dataset['class'] = (column_class=='Positive')*1.0\n",
        "\n",
        "for column in column_names:\n",
        "  if column not in ['Gender', 'class', 'Age']:\n",
        "    column_class = dataset.pop(column)\n",
        "    dataset[column] = (column_class=='Yes')*1.0\n",
        "\n",
        "# Prueba mostrando parte de la data para ver si tu conversión se hizo correctamente\n",
        "dataset.tail()\n"
      ],
      "metadata": {
        "id": "5j7aHuwF1tsj",
        "colab": {
          "base_uri": "https://localhost:8080/",
          "height": 285
        },
        "outputId": "bfe96d99-cca3-4cbd-d067-f552a516e2f8"
      },
      "execution_count": 4,
      "outputs": [
        {
          "output_type": "execute_result",
          "data": {
            "text/plain": [
              "     Age  gender  class  Polyuria  Polydipsia  sudden weight loss  weakness  \\\n",
              "514   39     1.0    1.0       1.0         1.0                 1.0       0.0   \n",
              "515   48     1.0    1.0       1.0         1.0                 1.0       1.0   \n",
              "516   58     1.0    1.0       1.0         1.0                 1.0       1.0   \n",
              "517   32     1.0    0.0       0.0         0.0                 0.0       1.0   \n",
              "518   42     0.0    0.0       0.0         0.0                 0.0       0.0   \n",
              "\n",
              "     Polyphagia  Genital thrush  visual blurring  Itching  Irritability  \\\n",
              "514         1.0             0.0              0.0      1.0           0.0   \n",
              "515         1.0             0.0              0.0      1.0           1.0   \n",
              "516         1.0             0.0              1.0      0.0           0.0   \n",
              "517         0.0             0.0              1.0      1.0           0.0   \n",
              "518         0.0             0.0              0.0      0.0           0.0   \n",
              "\n",
              "     delayed healing  partial paresis  muscle stiffness  Alopecia  Obesity  \n",
              "514              1.0              1.0               0.0       0.0      0.0  \n",
              "515              1.0              1.0               0.0       0.0      0.0  \n",
              "516              0.0              1.0               1.0       0.0      1.0  \n",
              "517              1.0              0.0               0.0       1.0      0.0  \n",
              "518              0.0              0.0               0.0       0.0      0.0  "
            ],
            "text/html": [
              "\n",
              "  <div id=\"df-23219d24-aea7-482f-9098-c469e9c95138\">\n",
              "    <div class=\"colab-df-container\">\n",
              "      <div>\n",
              "<style scoped>\n",
              "    .dataframe tbody tr th:only-of-type {\n",
              "        vertical-align: middle;\n",
              "    }\n",
              "\n",
              "    .dataframe tbody tr th {\n",
              "        vertical-align: top;\n",
              "    }\n",
              "\n",
              "    .dataframe thead th {\n",
              "        text-align: right;\n",
              "    }\n",
              "</style>\n",
              "<table border=\"1\" class=\"dataframe\">\n",
              "  <thead>\n",
              "    <tr style=\"text-align: right;\">\n",
              "      <th></th>\n",
              "      <th>Age</th>\n",
              "      <th>gender</th>\n",
              "      <th>class</th>\n",
              "      <th>Polyuria</th>\n",
              "      <th>Polydipsia</th>\n",
              "      <th>sudden weight loss</th>\n",
              "      <th>weakness</th>\n",
              "      <th>Polyphagia</th>\n",
              "      <th>Genital thrush</th>\n",
              "      <th>visual blurring</th>\n",
              "      <th>Itching</th>\n",
              "      <th>Irritability</th>\n",
              "      <th>delayed healing</th>\n",
              "      <th>partial paresis</th>\n",
              "      <th>muscle stiffness</th>\n",
              "      <th>Alopecia</th>\n",
              "      <th>Obesity</th>\n",
              "    </tr>\n",
              "  </thead>\n",
              "  <tbody>\n",
              "    <tr>\n",
              "      <th>514</th>\n",
              "      <td>39</td>\n",
              "      <td>1.0</td>\n",
              "      <td>1.0</td>\n",
              "      <td>1.0</td>\n",
              "      <td>1.0</td>\n",
              "      <td>1.0</td>\n",
              "      <td>0.0</td>\n",
              "      <td>1.0</td>\n",
              "      <td>0.0</td>\n",
              "      <td>0.0</td>\n",
              "      <td>1.0</td>\n",
              "      <td>0.0</td>\n",
              "      <td>1.0</td>\n",
              "      <td>1.0</td>\n",
              "      <td>0.0</td>\n",
              "      <td>0.0</td>\n",
              "      <td>0.0</td>\n",
              "    </tr>\n",
              "    <tr>\n",
              "      <th>515</th>\n",
              "      <td>48</td>\n",
              "      <td>1.0</td>\n",
              "      <td>1.0</td>\n",
              "      <td>1.0</td>\n",
              "      <td>1.0</td>\n",
              "      <td>1.0</td>\n",
              "      <td>1.0</td>\n",
              "      <td>1.0</td>\n",
              "      <td>0.0</td>\n",
              "      <td>0.0</td>\n",
              "      <td>1.0</td>\n",
              "      <td>1.0</td>\n",
              "      <td>1.0</td>\n",
              "      <td>1.0</td>\n",
              "      <td>0.0</td>\n",
              "      <td>0.0</td>\n",
              "      <td>0.0</td>\n",
              "    </tr>\n",
              "    <tr>\n",
              "      <th>516</th>\n",
              "      <td>58</td>\n",
              "      <td>1.0</td>\n",
              "      <td>1.0</td>\n",
              "      <td>1.0</td>\n",
              "      <td>1.0</td>\n",
              "      <td>1.0</td>\n",
              "      <td>1.0</td>\n",
              "      <td>1.0</td>\n",
              "      <td>0.0</td>\n",
              "      <td>1.0</td>\n",
              "      <td>0.0</td>\n",
              "      <td>0.0</td>\n",
              "      <td>0.0</td>\n",
              "      <td>1.0</td>\n",
              "      <td>1.0</td>\n",
              "      <td>0.0</td>\n",
              "      <td>1.0</td>\n",
              "    </tr>\n",
              "    <tr>\n",
              "      <th>517</th>\n",
              "      <td>32</td>\n",
              "      <td>1.0</td>\n",
              "      <td>0.0</td>\n",
              "      <td>0.0</td>\n",
              "      <td>0.0</td>\n",
              "      <td>0.0</td>\n",
              "      <td>1.0</td>\n",
              "      <td>0.0</td>\n",
              "      <td>0.0</td>\n",
              "      <td>1.0</td>\n",
              "      <td>1.0</td>\n",
              "      <td>0.0</td>\n",
              "      <td>1.0</td>\n",
              "      <td>0.0</td>\n",
              "      <td>0.0</td>\n",
              "      <td>1.0</td>\n",
              "      <td>0.0</td>\n",
              "    </tr>\n",
              "    <tr>\n",
              "      <th>518</th>\n",
              "      <td>42</td>\n",
              "      <td>0.0</td>\n",
              "      <td>0.0</td>\n",
              "      <td>0.0</td>\n",
              "      <td>0.0</td>\n",
              "      <td>0.0</td>\n",
              "      <td>0.0</td>\n",
              "      <td>0.0</td>\n",
              "      <td>0.0</td>\n",
              "      <td>0.0</td>\n",
              "      <td>0.0</td>\n",
              "      <td>0.0</td>\n",
              "      <td>0.0</td>\n",
              "      <td>0.0</td>\n",
              "      <td>0.0</td>\n",
              "      <td>0.0</td>\n",
              "      <td>0.0</td>\n",
              "    </tr>\n",
              "  </tbody>\n",
              "</table>\n",
              "</div>\n",
              "      <button class=\"colab-df-convert\" onclick=\"convertToInteractive('df-23219d24-aea7-482f-9098-c469e9c95138')\"\n",
              "              title=\"Convert this dataframe to an interactive table.\"\n",
              "              style=\"display:none;\">\n",
              "        \n",
              "  <svg xmlns=\"http://www.w3.org/2000/svg\" height=\"24px\"viewBox=\"0 0 24 24\"\n",
              "       width=\"24px\">\n",
              "    <path d=\"M0 0h24v24H0V0z\" fill=\"none\"/>\n",
              "    <path d=\"M18.56 5.44l.94 2.06.94-2.06 2.06-.94-2.06-.94-.94-2.06-.94 2.06-2.06.94zm-11 1L8.5 8.5l.94-2.06 2.06-.94-2.06-.94L8.5 2.5l-.94 2.06-2.06.94zm10 10l.94 2.06.94-2.06 2.06-.94-2.06-.94-.94-2.06-.94 2.06-2.06.94z\"/><path d=\"M17.41 7.96l-1.37-1.37c-.4-.4-.92-.59-1.43-.59-.52 0-1.04.2-1.43.59L10.3 9.45l-7.72 7.72c-.78.78-.78 2.05 0 2.83L4 21.41c.39.39.9.59 1.41.59.51 0 1.02-.2 1.41-.59l7.78-7.78 2.81-2.81c.8-.78.8-2.07 0-2.86zM5.41 20L4 18.59l7.72-7.72 1.47 1.35L5.41 20z\"/>\n",
              "  </svg>\n",
              "      </button>\n",
              "      \n",
              "  <style>\n",
              "    .colab-df-container {\n",
              "      display:flex;\n",
              "      flex-wrap:wrap;\n",
              "      gap: 12px;\n",
              "    }\n",
              "\n",
              "    .colab-df-convert {\n",
              "      background-color: #E8F0FE;\n",
              "      border: none;\n",
              "      border-radius: 50%;\n",
              "      cursor: pointer;\n",
              "      display: none;\n",
              "      fill: #1967D2;\n",
              "      height: 32px;\n",
              "      padding: 0 0 0 0;\n",
              "      width: 32px;\n",
              "    }\n",
              "\n",
              "    .colab-df-convert:hover {\n",
              "      background-color: #E2EBFA;\n",
              "      box-shadow: 0px 1px 2px rgba(60, 64, 67, 0.3), 0px 1px 3px 1px rgba(60, 64, 67, 0.15);\n",
              "      fill: #174EA6;\n",
              "    }\n",
              "\n",
              "    [theme=dark] .colab-df-convert {\n",
              "      background-color: #3B4455;\n",
              "      fill: #D2E3FC;\n",
              "    }\n",
              "\n",
              "    [theme=dark] .colab-df-convert:hover {\n",
              "      background-color: #434B5C;\n",
              "      box-shadow: 0px 1px 3px 1px rgba(0, 0, 0, 0.15);\n",
              "      filter: drop-shadow(0px 1px 2px rgba(0, 0, 0, 0.3));\n",
              "      fill: #FFFFFF;\n",
              "    }\n",
              "  </style>\n",
              "\n",
              "      <script>\n",
              "        const buttonEl =\n",
              "          document.querySelector('#df-23219d24-aea7-482f-9098-c469e9c95138 button.colab-df-convert');\n",
              "        buttonEl.style.display =\n",
              "          google.colab.kernel.accessAllowed ? 'block' : 'none';\n",
              "\n",
              "        async function convertToInteractive(key) {\n",
              "          const element = document.querySelector('#df-23219d24-aea7-482f-9098-c469e9c95138');\n",
              "          const dataTable =\n",
              "            await google.colab.kernel.invokeFunction('convertToInteractive',\n",
              "                                                     [key], {});\n",
              "          if (!dataTable) return;\n",
              "\n",
              "          const docLinkHtml = 'Like what you see? Visit the ' +\n",
              "            '<a target=\"_blank\" href=https://colab.research.google.com/notebooks/data_table.ipynb>data table notebook</a>'\n",
              "            + ' to learn more about interactive tables.';\n",
              "          element.innerHTML = '';\n",
              "          dataTable['output_type'] = 'display_data';\n",
              "          await google.colab.output.renderOutput(dataTable, element);\n",
              "          const docLink = document.createElement('div');\n",
              "          docLink.innerHTML = docLinkHtml;\n",
              "          element.appendChild(docLink);\n",
              "        }\n",
              "      </script>\n",
              "    </div>\n",
              "  </div>\n",
              "  "
            ]
          },
          "metadata": {},
          "execution_count": 4
        }
      ]
    },
    {
      "cell_type": "markdown",
      "source": [
        "Ahora normalizamos el atributo \"Age\" y dividimos la data en conjunto de entrenamiento y conjunto de test. Esta división es siempre necesaria para poder probar si tu modelo de aprendizaje ha aprendido a generalizar con datos que no pertenecen al conjunto de entrenamiento."
      ],
      "metadata": {
        "id": "rZ01e3pV5JhV"
      }
    },
    {
      "cell_type": "code",
      "source": [
        "max_age = dataset[\"Age\"].max()\n",
        "dataset[\"Age\"] = dataset[\"Age\"] / max_age\n",
        "dataset.tail()\n",
        "\n",
        "\n",
        "#80% de datos para train y 20% de datos para test\n",
        "train_dataset = dataset.sample(frac=0.8,random_state=0)\n",
        "test_dataset = dataset.drop(train_dataset.index)\n",
        "\n",
        "train_labels = train_dataset.pop('class')\n",
        "test_labels = test_dataset.pop('class')\n"
      ],
      "metadata": {
        "id": "j8ActdUx1wzz"
      },
      "execution_count": 5,
      "outputs": []
    },
    {
      "cell_type": "code",
      "source": [
        "#Convertimos todo a arrays Numpy\n",
        "X_train = train_dataset.to_numpy()\n",
        "X_test = test_dataset.to_numpy()\n",
        "\n",
        "Y_train = train_labels.to_numpy()\n",
        "Y_test = test_labels.to_numpy()\n",
        "\n",
        "Y_train = Y_train[:,None]\n",
        "Y_test = Y_test[:,None]\n",
        "\n",
        "X_train = X_train.astype(np.float32)\n",
        "X_test = X_test.astype(np.float32)\n",
        "Y_train = Y_train.astype(np.float32)\n",
        "Y_test = Y_test.astype(np.float32)\n",
        "\n",
        "print(X_train.shape)\n",
        "print(Y_train.shape)\n",
        "print(X_test.shape)\n",
        "print(Y_test.shape)"
      ],
      "metadata": {
        "id": "EkVs8jnHg70j",
        "colab": {
          "base_uri": "https://localhost:8080/"
        },
        "outputId": "6fe9204b-b88d-4833-e4ed-257ce8ef6ed1"
      },
      "execution_count": 6,
      "outputs": [
        {
          "output_type": "stream",
          "name": "stdout",
          "text": [
            "(415, 16)\n",
            "(415, 1)\n",
            "(104, 16)\n",
            "(104, 1)\n"
          ]
        }
      ]
    },
    {
      "cell_type": "code",
      "source": [
        "#Pack data with labels\n",
        "train_data = list(zip(X_train, Y_train))\n",
        "test_data = list(zip(X_test, Y_test))\n",
        "print(len(train_data))\n",
        "print(len(test_data))"
      ],
      "metadata": {
        "colab": {
          "base_uri": "https://localhost:8080/"
        },
        "id": "ixh7o2PYNNlx",
        "outputId": "efb18dad-0878-4b34-a2a1-023a3a5800e0"
      },
      "execution_count": 7,
      "outputs": [
        {
          "output_type": "stream",
          "name": "stdout",
          "text": [
            "415\n",
            "104\n"
          ]
        }
      ]
    },
    {
      "cell_type": "code",
      "source": [
        "#Split train data into TRAIN + VALIDATION (10% of the data as validation)\n",
        "VALID_RATIO = 0.9\n",
        "\n",
        "n_train_examples = int(len(train_data) * VALID_RATIO)\n",
        "n_valid_examples = len(train_data) - n_train_examples\n",
        "\n",
        "train_data, valid_data = data.random_split(train_data, [n_train_examples, n_valid_examples])"
      ],
      "metadata": {
        "id": "qEA7ijyAOz9l"
      },
      "execution_count": 8,
      "outputs": []
    },
    {
      "cell_type": "code",
      "source": [
        "#Pytorch has a nice feature to prepare data. The DataLoader creates an iterator of batches which are very convenient for training\n",
        "#Set the batch size the biggest value as possible depending on your GPU. Operations in a batch are parallelized.\n",
        "BATCH_SIZE = 20\n",
        "\n",
        "train_iterator = data.DataLoader(train_data, shuffle=False, batch_size=BATCH_SIZE)\n",
        "valid_iterator = data.DataLoader(valid_data, batch_size=BATCH_SIZE)\n",
        "test_iterator = data.DataLoader(test_data, batch_size=BATCH_SIZE)"
      ],
      "metadata": {
        "id": "STQIySMtOtcN"
      },
      "execution_count": 9,
      "outputs": []
    },
    {
      "cell_type": "markdown",
      "source": [
        "# **Parte 1**\n",
        "Diseña y entrena un perceptrón multicapa con la data de arriba. Intenta que tu modelo alcance el mayor accuracy de test posible (ojalá por encima del 93%). Para este primer experimento puedes usar la implementación de MLP vista en clase (basada en Numpy) ó puedes usar algún framework como Tensorflow o Pytorch si es que deseas. Hay que tener en cuenta algunas consideraciones para este primer experimento:\n",
        "\n",
        "\n",
        "\n",
        "*   Usar gradiente descendiente estocástico con un tamaño de mini-batch de 20. \n",
        "*   Usar learning rate de 0.01.\n",
        "*  Los mini-batches NO se generan de manera aleatoria.\n",
        "\n",
        "Graficar la función de loss con respecto a las épocas."
      ],
      "metadata": {
        "id": "k45gRQcSoQEg"
      }
    },
    {
      "cell_type": "markdown",
      "source": [
        "16 x 16 -> 16 x 8 -> 8 x 1"
      ],
      "metadata": {
        "id": "HdesI7Udf1a1"
      }
    },
    {
      "cell_type": "code",
      "source": [
        "#Class for our neural network. When a class inherits from torch.nn.Module, \n",
        "#it automatically becomes a neural network\n",
        "\n",
        "class MLP(nn.Module):\n",
        "  # We need to define two methods at leats: constructor and forward\n",
        "\n",
        "  #Constructor is for member definitions\n",
        "  def __init__(self, input_dim, output_dim):\n",
        "    super().__init__()\n",
        "\n",
        "    self.fc1 = nn.Linear(input_dim, 16)\n",
        "    self.fc2 = nn.Linear(16, 8)\n",
        "    self.fc3 = nn.Linear(8, output_dim)\n",
        "\n",
        "  #Forward: what happens when we feed the network with data\n",
        "  def forward(self, input):\n",
        "    batch_size = input.shape[0]\n",
        "    input = input.view(batch_size, -1)\n",
        "    h_1 = F.relu(self.fc1(input))\n",
        "    h_2 = F.relu(self.fc2(h_1))\n",
        "    #y_pred = F.sigmoid(self.fc3(h_2))\n",
        "    y_pred = self.fc3(h_2)\n",
        "\n",
        "    #Our network returns the output of the final layer but also the output of the hidden layer\n",
        "    return y_pred, h_2"
      ],
      "metadata": {
        "id": "eTrvTTBhnKn1"
      },
      "execution_count": 10,
      "outputs": []
    },
    {
      "cell_type": "code",
      "source": [
        "# Create the model\n",
        "INPUT_DIM = 16\n",
        "OUTPUT_DIM = 1\n",
        "\n",
        "model = MLP(INPUT_DIM, OUTPUT_DIM)"
      ],
      "metadata": {
        "id": "mCb8epkunoRi"
      },
      "execution_count": 11,
      "outputs": []
    },
    {
      "cell_type": "code",
      "source": [
        "#Create the object for the optimization. \n",
        "optimizer = optim.SGD(model.parameters(), lr=0.01)"
      ],
      "metadata": {
        "id": "6z_l4vVenvIS"
      },
      "execution_count": 12,
      "outputs": []
    },
    {
      "cell_type": "code",
      "source": [
        "criterion = nn.MSELoss()\n",
        "#criterion = nn.BCELoss()"
      ],
      "metadata": {
        "id": "kWoSZy42nzKD"
      },
      "execution_count": 13,
      "outputs": []
    },
    {
      "cell_type": "code",
      "source": [
        "device = torch.device('cuda' if torch.cuda.is_available() else 'cpu')"
      ],
      "metadata": {
        "id": "YMGplR-1obJo"
      },
      "execution_count": 14,
      "outputs": []
    },
    {
      "cell_type": "code",
      "source": [
        "#Send the model and the loss object to the GPU\n",
        "\n",
        "model = model.to(device)\n",
        "criterion = criterion.to(device)"
      ],
      "metadata": {
        "id": "46bxLfFFodFw"
      },
      "execution_count": 15,
      "outputs": []
    },
    {
      "cell_type": "code",
      "source": [
        "#Function to compute the accuracy. We assume the predictions and the labels are tensors in the GPU\n",
        "\n",
        "def calculate_accuracy(y_pred, y):\n",
        "  #top_pred = y_pred.argmax(1) #keepDim=True\n",
        "  #correct = top_pred.eq(y.view_as(top_pred)).sum()\n",
        "  #acc = correct.float()/y.shape[0]\n",
        "  test_output = (y_pred >= 0.5)\n",
        "  correct = (test_output == y).sum()\n",
        "  acc = correct.float()/y.shape[0]\n",
        "  return acc"
      ],
      "metadata": {
        "id": "6YsDzGTmo260"
      },
      "execution_count": 16,
      "outputs": []
    },
    {
      "cell_type": "code",
      "source": [
        "#Define a function to perform training\n",
        "\n",
        "def train(model, iterator, optimizer, criterion, device):\n",
        "  epoch_loss = 0\n",
        "  epoch_acc = 0\n",
        "  #We have to set the neural network in training mode. This is because during\n",
        "  #training, we need gradients and complementary data to ease the computation  \n",
        "  model.train()\n",
        "\n",
        "  #Training loop\n",
        "  for (x, y) in iterator:\n",
        "    #x= x.float()\n",
        "    #y = y.float()\n",
        "    x = x.to(device) #Data\n",
        "    y = y.long().to(device) #Labels\n",
        "        \n",
        "    optimizer.zero_grad() #Clean gradients\n",
        "\n",
        "    y_pred, _ = model(x) #Feed the network with data\n",
        "\n",
        "    loss = criterion(y_pred.float(), y.float()) #Compute the loss\n",
        "\n",
        "    acc = calculate_accuracy(y_pred, y) #Compute the accuracy\n",
        "    \n",
        "    loss.backward() #Compute gradients\n",
        "    \n",
        "    optimizer.step() #Apply update rules  \n",
        "    epoch_loss += loss.item()\n",
        "    epoch_acc += acc.item()\n",
        "        \n",
        "  return epoch_loss / len(iterator), epoch_acc / len(iterator)"
      ],
      "metadata": {
        "id": "OReZaTBlsmPm"
      },
      "execution_count": 17,
      "outputs": []
    },
    {
      "cell_type": "code",
      "source": [
        "#Function to test neural network\n",
        "\n",
        "def evaluate(model, iterator, criterion, device):\n",
        "  epoch_loss = 0\n",
        "  epoch_acc = 0\n",
        "\n",
        "  #We put the network in testing mode\n",
        "  #In this mode, Pytorch doesn't use features only reserved for \n",
        "  #training (dropout for instance)    \n",
        "  model.eval()\n",
        "    \n",
        "  with torch.no_grad(): #disable the autograd engine (save computation and memory)\n",
        "        \n",
        "    for (x, y) in iterator:\n",
        "      x = x.to(device)\n",
        "      y = y.long().to(device)\n",
        "      \n",
        "      y_pred, _ = model(x.float()) # .-.-.float()\n",
        "      \n",
        "      loss = criterion(y_pred, y)\n",
        "\n",
        "      acc = calculate_accuracy(y_pred, y)\n",
        "\n",
        "      epoch_loss += loss.item()\n",
        "      epoch_acc += acc.item()\n",
        "  return epoch_loss / len(iterator), epoch_acc / len(iterator)"
      ],
      "metadata": {
        "id": "Vdp-masdRA3Q"
      },
      "execution_count": 18,
      "outputs": []
    },
    {
      "cell_type": "code",
      "source": [
        "#Let's perform the training\n",
        "\n",
        "EPOCHS = 2000\n",
        "\n",
        "best_valid_loss = float('inf')\n",
        "\n",
        "train_loss_list_p1 = []\n",
        "test_loss_list_p1 = []\n",
        "\n",
        "for epoch in range(EPOCHS):\n",
        "\n",
        "  #Train + validation cycles  \n",
        "  train_loss, train_acc = train(model, train_iterator, optimizer, criterion, device)\n",
        "  valid_loss, valid_acc = evaluate(model, valid_iterator, criterion, device)\n",
        "  test_loss, test_acc = evaluate(model, test_iterator, criterion, device)\n",
        "\n",
        "  train_loss_list_p1.append(float(train_loss))\n",
        "  test_loss_list_p1.append(float(test_loss))\n",
        "    \n",
        "  #If we find a smaller loss, we save the model\n",
        "  if valid_loss < best_valid_loss:\n",
        "    best_valid_loss = valid_loss\n",
        "    torch.save(model.state_dict(), 'saved-model.pt')\n",
        "\n",
        "    \n",
        "  sys.stdout.write('\\rEpoch {}, Train loss: {:.3f} | Train acc: {:.2f}% -- Val. Loss: {:.3f} | Val. Acc: {:.2f}%'.format(epoch, train_loss, train_acc*100, valid_loss, valid_acc*100))\n",
        "  #print(f'\\tTrain Loss: {train_loss:.3f} | Train Acc: {train_acc*100:.2f}%')\n",
        "  #print(f'\\t Val. Loss: {valid_loss:.3f} |  Val. Acc: {valid_acc*100:.2f}%')"
      ],
      "metadata": {
        "colab": {
          "base_uri": "https://localhost:8080/"
        },
        "id": "OvZZRfYVtZ2z",
        "outputId": "3a71b56a-0d09-4d6a-8d62-e81a5d92c6db"
      },
      "execution_count": 19,
      "outputs": [
        {
          "output_type": "stream",
          "name": "stdout",
          "text": [
            "Epoch 1999, Train loss: 0.003 | Train acc: 100.00% -- Val. Loss: 0.019 | Val. Acc: 98.33%"
          ]
        }
      ]
    },
    {
      "cell_type": "code",
      "source": [
        "#Load the best model\n",
        "model.load_state_dict(torch.load('saved-model.pt'))\n",
        "\n",
        "test_loss , test_acc = evaluate(model, test_iterator, criterion, device)\n",
        "print(f'Test Loss: {test_loss:.3f} | Test Acc: {test_acc*100:.2f}%')"
      ],
      "metadata": {
        "colab": {
          "base_uri": "https://localhost:8080/"
        },
        "id": "6jIXLPIJjd3c",
        "outputId": "d83e0ab1-b7b9-4795-e785-c91f9da62257"
      },
      "execution_count": 20,
      "outputs": [
        {
          "output_type": "stream",
          "name": "stdout",
          "text": [
            "Test Loss: 0.032 | Test Acc: 96.67%\n"
          ]
        }
      ]
    },
    {
      "cell_type": "code",
      "source": [
        "plt.figure()\n",
        "plt.plot(train_loss_list_p1, color='b', label='Train Loss')\n",
        "plt.plot(test_loss_list_p1, color='r', label='Test loss')\n",
        "plt.title('Loss function')\n",
        "plt.xlabel('Epochs')\n",
        "plt.ylabel('Loss')\n",
        "plt.legend()\n",
        "plt.show()"
      ],
      "metadata": {
        "colab": {
          "base_uri": "https://localhost:8080/",
          "height": 295
        },
        "id": "I2-CsSrrgetw",
        "outputId": "4b3abe72-b6d2-4b50-f47e-5cd313aa1fb4"
      },
      "execution_count": 21,
      "outputs": [
        {
          "output_type": "display_data",
          "data": {
            "text/plain": [
              "<Figure size 432x288 with 1 Axes>"
            ],
            "image/png": "[encoded data removed]"
          },
          "metadata": {
            "needs_background": "light"
          }
        }
      ]
    },
    {
      "cell_type": "markdown",
      "source": [
        "# **Parte 2**\n",
        "Intenta cambiar el tamaño de los mini-batches. Como casos extremos usa m=1 (mini-batches de tamaño 1) y m=n(1 solo mini-batch con todos los datos). Qué resultados obtienes? Discute los resultados. (Hay que explicar el fenómeno observado, dando su opinión de porqué sucede).\n",
        "\n",
        "Graficar la función de loss con respecto a las épocas y comparar con la función de loss de la Parte 1."
      ],
      "metadata": {
        "id": "mJR12xjqpnu-"
      }
    },
    {
      "cell_type": "markdown",
      "source": [
        "## Batch size 1\n",
        "\n",
        "### Advertencia - Si se busca replicar estas celdas se recomienda bajar el número de épocas. La dejé en 2000 por consistencia sin embargo demora aproximadamente 9 minutos este experimento."
      ],
      "metadata": {
        "id": "fD1amJDgI_M7"
      }
    },
    {
      "cell_type": "code",
      "source": [
        "#Pytorch has a nice feature to prepare data. The DataLoader creates an iterator of batches which are very convenient for training\n",
        "#Set the batch size the biggest value as possible depending on your GPU. Operations in a batch are parallelized.\n",
        "BATCH_SIZE = 1\n",
        "\n",
        "train_iterator_s1 = data.DataLoader(train_data, shuffle=False, batch_size=BATCH_SIZE)\n",
        "valid_iterator_s1 = data.DataLoader(valid_data, batch_size=BATCH_SIZE)\n",
        "test_iterator_s1 = data.DataLoader(test_data, batch_size=BATCH_SIZE)"
      ],
      "metadata": {
        "id": "tfZVNZ50HKig"
      },
      "execution_count": 22,
      "outputs": []
    },
    {
      "cell_type": "code",
      "source": [
        "# Create the model\n",
        "INPUT_DIM = 16\n",
        "OUTPUT_DIM = 1\n",
        "\n",
        "model = MLP(INPUT_DIM, OUTPUT_DIM)\n",
        "\n",
        "#Create the object for the optimization. \n",
        "optimizer = optim.SGD(model.parameters(), lr=0.01)\n",
        "\n",
        "criterion = nn.MSELoss()\n",
        "#criterion = nn.BCELoss()\n",
        "\n",
        "#Send the model and the loss object to the GPU\n",
        "\n",
        "model = model.to(device)\n",
        "criterion = criterion.to(device)\n",
        "\n",
        "#Let's perform the training\n",
        "\n",
        "EPOCHS = 2000\n",
        "\n",
        "best_valid_loss = float('inf')\n",
        "\n",
        "train_loss_list = []\n",
        "test_loss_list = []\n",
        "\n",
        "for epoch in range(EPOCHS):\n",
        "\n",
        "  #Train + validation cycles  \n",
        "  train_loss, train_acc = train(model, train_iterator_s1, optimizer, criterion, device)\n",
        "  valid_loss, valid_acc = evaluate(model, valid_iterator_s1, criterion, device)\n",
        "  test_loss, test_acc = evaluate(model, test_iterator_s1, criterion, device)\n",
        "\n",
        "  train_loss_list.append(float(train_loss))\n",
        "  test_loss_list.append(float(test_loss))\n",
        "    \n",
        "  #If we find a smaller loss, we save the model\n",
        "  if valid_loss < best_valid_loss:\n",
        "    best_valid_loss = valid_loss\n",
        "    torch.save(model.state_dict(), 'saved-model.pt')\n",
        "    \n",
        "  sys.stdout.write('\\rEpoch {}, Train loss: {:.3f} | Train acc: {:.2f}% -- Val. Loss: {:.3f} | Val. Acc: {:.2f}%'.format(epoch, train_loss, train_acc*100, valid_loss, valid_acc*100))\n",
        "  #print(f'\\tTrain Loss: {train_loss:.3f} | Train Acc: {train_acc*100:.2f}%')\n",
        "  #print(f'\\t Val. Loss: {valid_loss:.3f} |  Val. Acc: {valid_acc*100:.2f}%')"
      ],
      "metadata": {
        "colab": {
          "base_uri": "https://localhost:8080/"
        },
        "id": "5_COF_E6INgX",
        "outputId": "094fb983-9e52-49f1-e28b-a12dccdd737f"
      },
      "execution_count": 23,
      "outputs": [
        {
          "output_type": "stream",
          "name": "stdout",
          "text": [
            "Epoch 1999, Train loss: 0.000 | Train acc: 100.00% -- Val. Loss: 0.024 | Val. Acc: 97.62%"
          ]
        }
      ]
    },
    {
      "cell_type": "code",
      "source": [
        "#Load the best model\n",
        "model.load_state_dict(torch.load('saved-model.pt'))\n",
        "\n",
        "test_loss , test_acc = evaluate(model, test_iterator_s1, criterion, device)\n",
        "print(f'Test Loss: {test_loss:.3f} | Test Acc: {test_acc*100:.2f}%')"
      ],
      "metadata": {
        "colab": {
          "base_uri": "https://localhost:8080/"
        },
        "id": "CrzTksJEIvh9",
        "outputId": "0d426a18-248a-4a91-9000-99cb6626479f"
      },
      "execution_count": 24,
      "outputs": [
        {
          "output_type": "stream",
          "name": "stdout",
          "text": [
            "Test Loss: 0.043 | Test Acc: 96.15%\n"
          ]
        }
      ]
    },
    {
      "cell_type": "code",
      "source": [
        "plt.figure()\n",
        "plt.plot(train_loss_list, color='b', label='Train Loss')\n",
        "plt.plot(test_loss_list, color='r', label='Test loss')\n",
        "plt.title('Loss function batch size 1')\n",
        "plt.xlabel('Epochs')\n",
        "plt.ylabel('Loss')\n",
        "plt.legend()\n",
        "plt.show()"
      ],
      "metadata": {
        "colab": {
          "base_uri": "https://localhost:8080/",
          "height": 295
        },
        "id": "q-l-R15_IySy",
        "outputId": "cd3965ba-87f8-459a-aba6-3214ea29ca88"
      },
      "execution_count": 25,
      "outputs": [
        {
          "output_type": "display_data",
          "data": {
            "text/plain": [
              "<Figure size 432x288 with 1 Axes>"
            ],
            "image/png": "[encoded data removed]"
          },
          "metadata": {
            "needs_background": "light"
          }
        }
      ]
    },
    {
      "cell_type": "code",
      "source": [
        "plt.figure()\n",
        "plt.plot(train_loss_list_p1, color='b', label='Train Loss')\n",
        "plt.plot(test_loss_list_p1, color='r', label='Test loss')\n",
        "plt.title('Loss function Part 1')\n",
        "plt.xlabel('Epochs')\n",
        "plt.ylabel('Loss')\n",
        "plt.legend()\n",
        "plt.show()"
      ],
      "metadata": {
        "colab": {
          "base_uri": "https://localhost:8080/",
          "height": 295
        },
        "outputId": "b071b520-7430-4c8d-b43d-14cce08ed14a",
        "id": "IHZaOs_DqDsB"
      },
      "execution_count": 26,
      "outputs": [
        {
          "output_type": "display_data",
          "data": {
            "text/plain": [
              "<Figure size 432x288 with 1 Axes>"
            ],
            "image/png": "[encoded data removed]"
          },
          "metadata": {
            "needs_background": "light"
          }
        }
      ]
    },
    {
      "cell_type": "markdown",
      "source": [
        "## Comentarios\n",
        "\n",
        "Cuando entrenamos la red con un batch size igual a 1 significa que que por cada batch tenemos una muestra. Con esto la red está optimizando con este único valor por cada batch y por cada época, por lo que el tiempo de entrenamiento aumenta en relación con la parte 1. Considerando el tiempo de ejecución, esta opción conviene usarla cuando el input de entrada es muy grande pues procesar una muestra ya lleva mucho tiempo, así con un batch size de 1, es posible entrenar la red de una forma más controlable. A pesar de del tiempo de ejecución la red aprende de todas maneras.\n",
        "\n",
        "En cuanto a los gráficos es posible notar que son bastante similares pues la función de loss se encuentra en un rango de la misma magnitud."
      ],
      "metadata": {
        "id": "eJ9qHKmx6szo"
      }
    },
    {
      "cell_type": "markdown",
      "source": [
        "## Batch size 415"
      ],
      "metadata": {
        "id": "F-YfD44nI45w"
      }
    },
    {
      "cell_type": "code",
      "source": [
        "#Pytorch has a nice feature to prepare data. The DataLoader creates an iterator of batches which are very convenient for training\n",
        "#Set the batch size the biggest value as possible depending on your GPU. Operations in a batch are parallelized.\n",
        "BATCH_SIZE = 415\n",
        "\n",
        "train_iterator_s415 = data.DataLoader(train_data, shuffle=False, batch_size=BATCH_SIZE)\n",
        "valid_iterator_s415 = data.DataLoader(valid_data, batch_size=BATCH_SIZE)\n",
        "test_iterator_s415 = data.DataLoader(test_data, batch_size=BATCH_SIZE)"
      ],
      "metadata": {
        "id": "P0HjOxhSHZ9y"
      },
      "execution_count": 27,
      "outputs": []
    },
    {
      "cell_type": "code",
      "source": [
        "# Create the model\n",
        "INPUT_DIM = 16\n",
        "OUTPUT_DIM = 1\n",
        "\n",
        "model = MLP(INPUT_DIM, OUTPUT_DIM)\n",
        "\n",
        "#Create the object for the optimization. \n",
        "optimizer = optim.SGD(model.parameters(), lr=0.01)\n",
        "\n",
        "criterion = nn.MSELoss()\n",
        "#criterion = nn.BCELoss()\n",
        "\n",
        "#Send the model and the loss object to the GPU\n",
        "\n",
        "model = model.to(device)\n",
        "criterion = criterion.to(device)\n",
        "\n",
        "#Let's perform the training\n",
        "\n",
        "EPOCHS = 2000\n",
        "\n",
        "best_valid_loss = float('inf')\n",
        "\n",
        "train_loss_list = []\n",
        "test_loss_list = []\n",
        "\n",
        "for epoch in range(EPOCHS):\n",
        "\n",
        "  #Train + validation cycles  \n",
        "  train_loss, train_acc = train(model, train_iterator_s415, optimizer, criterion, device)\n",
        "  valid_loss, valid_acc = evaluate(model, valid_iterator_s415, criterion, device)\n",
        "  test_loss, test_acc = evaluate(model, test_iterator_s415, criterion, device)\n",
        "\n",
        "  train_loss_list.append(float(train_loss))\n",
        "  test_loss_list.append(float(test_loss))\n",
        "    \n",
        "  #If we find a smaller loss, we save the model\n",
        "  if valid_loss < best_valid_loss:\n",
        "    best_valid_loss = valid_loss\n",
        "    torch.save(model.state_dict(), 'saved-model.pt')\n",
        "    \n",
        "  sys.stdout.write('\\rEpoch {}, Train loss: {:.3f} | Train acc: {:.2f}% -- Val. Loss: {:.3f} | Val. Acc: {:.2f}%'.format(epoch, train_loss, train_acc*100, valid_loss, valid_acc*100))\n",
        "  #print(f'\\tTrain Loss: {train_loss:.3f} | Train Acc: {train_acc*100:.2f}%')\n",
        "  #print(f'\\t Val. Loss: {valid_loss:.3f} |  Val. Acc: {valid_acc*100:.2f}%')"
      ],
      "metadata": {
        "colab": {
          "base_uri": "https://localhost:8080/"
        },
        "id": "-nqnj5b-Jt0a",
        "outputId": "c5b4af81-bdfe-40e5-bdef-981e2122a394"
      },
      "execution_count": 28,
      "outputs": [
        {
          "output_type": "stream",
          "name": "stdout",
          "text": [
            "Epoch 1999, Train loss: 0.067 | Train acc: 93.30% -- Val. Loss: 0.075 | Val. Acc: 88.10%"
          ]
        }
      ]
    },
    {
      "cell_type": "code",
      "source": [
        "#Load the best model\n",
        "model.load_state_dict(torch.load('saved-model.pt'))\n",
        "\n",
        "test_loss , test_acc = evaluate(model, test_iterator_s415, criterion, device)\n",
        "print(f'Test Loss: {test_loss:.3f} | Test Acc: {test_acc*100:.2f}%')"
      ],
      "metadata": {
        "colab": {
          "base_uri": "https://localhost:8080/"
        },
        "id": "wdia5KzmJxBX",
        "outputId": "e4e1e38b-d44a-4ed8-c1d9-5ba6d55fab4a"
      },
      "execution_count": 29,
      "outputs": [
        {
          "output_type": "stream",
          "name": "stdout",
          "text": [
            "Test Loss: 0.075 | Test Acc: 91.35%\n"
          ]
        }
      ]
    },
    {
      "cell_type": "code",
      "source": [
        "plt.figure()\n",
        "plt.plot(train_loss_list, color='b', label='Train Loss')\n",
        "plt.plot(test_loss_list, color='r', label='Test loss')\n",
        "plt.title('Loss function batch size 415')\n",
        "plt.xlabel('Epochs')\n",
        "plt.ylabel('Loss')\n",
        "plt.legend()\n",
        "plt.show()"
      ],
      "metadata": {
        "colab": {
          "base_uri": "https://localhost:8080/",
          "height": 295
        },
        "id": "GaZ9ReIcJy2Q",
        "outputId": "83bc6c6f-0e56-4141-e255-ff29908006c3"
      },
      "execution_count": 30,
      "outputs": [
        {
          "output_type": "display_data",
          "data": {
            "text/plain": [
              "<Figure size 432x288 with 1 Axes>"
            ],
            "image/png": "[encoded data removed]"
          },
          "metadata": {
            "needs_background": "light"
          }
        }
      ]
    },
    {
      "cell_type": "code",
      "source": [
        "plt.figure()\n",
        "plt.plot(train_loss_list_p1, color='b', label='Train Loss')\n",
        "plt.plot(test_loss_list_p1, color='r', label='Test loss')\n",
        "plt.title('Loss function Part 1')\n",
        "plt.xlabel('Epochs')\n",
        "plt.ylabel('Loss')\n",
        "plt.legend()\n",
        "plt.show()"
      ],
      "metadata": {
        "colab": {
          "base_uri": "https://localhost:8080/",
          "height": 295
        },
        "outputId": "a65f5596-b18c-478b-e4ae-fa6e66876807",
        "id": "rY0ObGw9qj54"
      },
      "execution_count": 31,
      "outputs": [
        {
          "output_type": "display_data",
          "data": {
            "text/plain": [
              "<Figure size 432x288 with 1 Axes>"
            ],
            "image/png": "[encoded data removed]"
          },
          "metadata": {
            "needs_background": "light"
          }
        }
      ]
    },
    {
      "cell_type": "markdown",
      "source": [
        "## Comentarios\n",
        "\n",
        "Cuando utilizamos el batch size de 415 es como si estuvieramos optimizando con Gradiente Descendiente pues estamos considerando todos los inputs en un mismo batch y se realiza la optimización con todas las muestras, ademas al considerar un batch con una mayor cantidad de muestras, es posible que cueste un poco más encontrar mínimos locales pues se toman en consideración más datos y se estarían dando \"pasos más grandes\". Esta opción puede ser costosa computacionalmente por lo que no es preferible, en este experimento no existen mayores problemas pues no son tantas muestras. Es así como es preferible utilizar un batch size bastante más pequeño.\n",
        "\n",
        "Si comporamos el entrenamiento con la parte anterior con un batch size de 1, el tiempo de ejecución fue menor y la función de loss alcanzó valores similares, que es esperable porque estamos utilizando los mismos datos y deberían converger eventualmente al mismo valor. Respecto a la parte 1 también se obtuvieron los mismos resultados en un tiempo de ejecución menor."
      ],
      "metadata": {
        "id": "nCWxRc1H68pc"
      }
    },
    {
      "cell_type": "markdown",
      "source": [
        "# **Parte 3**\n",
        "Intenta cambiar el learning rate. Como casos extremos usa lr = 0.5 y lr = 0.000001. Qué resultados obtienes? Discute los resultados. (Hay que explicar el fenómeno observado, dando su opinión de porqué sucede).\n",
        "\n",
        "Graficar la función de loss con respecto a las épocas y comparar con la función de loss de la Parte 1."
      ],
      "metadata": {
        "id": "ANcEAlvhqN27"
      }
    },
    {
      "cell_type": "markdown",
      "source": [
        "## Learning Rate 0.5"
      ],
      "metadata": {
        "id": "fOQY5mKL-eyG"
      }
    },
    {
      "cell_type": "code",
      "source": [
        "# Create the model\n",
        "INPUT_DIM = 16\n",
        "OUTPUT_DIM = 1\n",
        "\n",
        "model = MLP(INPUT_DIM, OUTPUT_DIM)\n",
        "\n",
        "#Create the object for the optimization. \n",
        "optimizer = optim.SGD(model.parameters(), lr=0.5)\n",
        "\n",
        "criterion = nn.MSELoss()\n",
        "#criterion = nn.BCELoss()\n",
        "\n",
        "#Send the model and the loss object to the GPU\n",
        "\n",
        "model = model.to(device)\n",
        "criterion = criterion.to(device)\n",
        "\n",
        "#Let's perform the training\n",
        "\n",
        "EPOCHS = 2000\n",
        "\n",
        "best_valid_loss = float('inf')\n",
        "\n",
        "train_loss_list = []\n",
        "test_loss_list = []\n",
        "\n",
        "for epoch in range(EPOCHS):\n",
        "\n",
        "  #Train + validation cycles  \n",
        "  train_loss, train_acc = train(model, train_iterator, optimizer, criterion, device)\n",
        "  valid_loss, valid_acc = evaluate(model, valid_iterator, criterion, device)\n",
        "  test_loss, test_acc = evaluate(model, test_iterator, criterion, device)\n",
        "\n",
        "  train_loss_list.append(float(train_loss))\n",
        "  test_loss_list.append(float(test_loss))\n",
        "    \n",
        "  #If we find a smaller loss, we save the model\n",
        "  if valid_loss < best_valid_loss:\n",
        "    best_valid_loss = valid_loss\n",
        "    torch.save(model.state_dict(), 'saved-model.pt')\n",
        "    \n",
        "  sys.stdout.write('\\rEpoch {}, Train loss: {:.3f} | Train acc: {:.2f}% -- Val. Loss: {:.3f} | Val. Acc: {:.2f}%'.format(epoch, train_loss, train_acc*100, valid_loss, valid_acc*100))\n",
        "  #print(f'\\tTrain Loss: {train_loss:.3f} | Train Acc: {train_acc*100:.2f}%')\n",
        "  #print(f'\\t Val. Loss: {valid_loss:.3f} |  Val. Acc: {valid_acc*100:.2f}%')"
      ],
      "metadata": {
        "colab": {
          "base_uri": "https://localhost:8080/"
        },
        "id": "4PN93-nX-Tht",
        "outputId": "88c90137-0444-4c35-b450-e087fccd26d9"
      },
      "execution_count": 32,
      "outputs": [
        {
          "output_type": "stream",
          "name": "stdout",
          "text": [
            "Epoch 1999, Train loss: 0.006 | Train acc: 100.00% -- Val. Loss: 0.024 | Val. Acc: 98.33%"
          ]
        }
      ]
    },
    {
      "cell_type": "code",
      "source": [
        "#Load the best model\n",
        "model.load_state_dict(torch.load('saved-model.pt'))\n",
        "\n",
        "test_loss , test_acc = evaluate(model, test_iterator, criterion, device)\n",
        "print(f'Test Loss: {test_loss:.3f} | Test Acc: {test_acc*100:.2f}%')"
      ],
      "metadata": {
        "colab": {
          "base_uri": "https://localhost:8080/"
        },
        "id": "QaDZP4Ll_CIT",
        "outputId": "98926d21-e5ec-48b4-b597-89ca6e550da8"
      },
      "execution_count": 33,
      "outputs": [
        {
          "output_type": "stream",
          "name": "stdout",
          "text": [
            "Test Loss: 0.042 | Test Acc: 95.00%\n"
          ]
        }
      ]
    },
    {
      "cell_type": "code",
      "source": [
        "plt.figure()\n",
        "plt.plot(train_loss_list, color='b', label='Train Loss')\n",
        "plt.plot(test_loss_list, color='r', label='Test loss')\n",
        "plt.title('Loss function lr=0.5')\n",
        "plt.xlabel('Epochs')\n",
        "plt.ylabel('Loss')\n",
        "plt.legend()\n",
        "plt.show()"
      ],
      "metadata": {
        "colab": {
          "base_uri": "https://localhost:8080/",
          "height": 295
        },
        "id": "2VqsWy8Q_Fnb",
        "outputId": "ff8891f6-e7b3-4fc4-ffe4-af983c524893"
      },
      "execution_count": 34,
      "outputs": [
        {
          "output_type": "display_data",
          "data": {
            "text/plain": [
              "<Figure size 432x288 with 1 Axes>"
            ],
            "image/png": "[encoded data removed]"
          },
          "metadata": {
            "needs_background": "light"
          }
        }
      ]
    },
    {
      "cell_type": "code",
      "source": [
        "plt.figure()\n",
        "plt.plot(train_loss_list_p1, color='b', label='Train Loss')\n",
        "plt.plot(test_loss_list_p1, color='r', label='Test loss')\n",
        "plt.title('Loss function Part 1')\n",
        "plt.xlabel('Epochs')\n",
        "plt.ylabel('Loss')\n",
        "plt.legend()\n",
        "plt.show()"
      ],
      "metadata": {
        "colab": {
          "base_uri": "https://localhost:8080/",
          "height": 295
        },
        "outputId": "3f6f3689-3bc3-4aaa-c29e-d559d9ba5601",
        "id": "Hdt5v2g7qnNl"
      },
      "execution_count": 35,
      "outputs": [
        {
          "output_type": "display_data",
          "data": {
            "text/plain": [
              "<Figure size 432x288 with 1 Axes>"
            ],
            "image/png": "[encoded data removed]"
          },
          "metadata": {
            "needs_background": "light"
          }
        }
      ]
    },
    {
      "cell_type": "markdown",
      "source": [
        "## Comentarios\n",
        "\n",
        "El learning rate es un parámetro que determina a grandes rasgos que tan rápido queremos que nuestra red varíe y actualice los parametros como los pesos y bias. A valores más grandes, como lr=0.5, se espera que la función de loss sea más ruidosa, es decir, va a existir una oscilación porque al momento de calcular los gradientes va a costar un poco más encontrar algún mínimo (local) frente a las variaciones de los pesos y bias en comparacion con la parte 1.\n",
        "\n",
        "Es posible ver en el gráfico con lr=0.5 existe un comportamiento oscilante de la funcion loss debido a las razones mencionadas anteriormente."
      ],
      "metadata": {
        "id": "t9vrrTVI7L6N"
      }
    },
    {
      "cell_type": "markdown",
      "source": [
        "## Learning rate 0.000001"
      ],
      "metadata": {
        "id": "tIvpiBjr-jaT"
      }
    },
    {
      "cell_type": "code",
      "source": [
        "# Create the model\n",
        "INPUT_DIM = 16\n",
        "OUTPUT_DIM = 1\n",
        "\n",
        "model = MLP(INPUT_DIM, OUTPUT_DIM)\n",
        "\n",
        "#Create the object for the optimization. \n",
        "optimizer = optim.SGD(model.parameters(), lr=0.000001)\n",
        "\n",
        "criterion = nn.MSELoss()\n",
        "#criterion = nn.BCELoss()\n",
        "\n",
        "#Send the model and the loss object to the GPU\n",
        "\n",
        "model = model.to(device)\n",
        "criterion = criterion.to(device)\n",
        "\n",
        "#Let's perform the training\n",
        "\n",
        "EPOCHS = 2000\n",
        "\n",
        "best_valid_loss = float('inf')\n",
        "\n",
        "train_loss_list = []\n",
        "test_loss_list = []\n",
        "\n",
        "for epoch in range(EPOCHS):\n",
        "\n",
        "  #Train + validation cycles  \n",
        "  train_loss, train_acc = train(model, train_iterator, optimizer, criterion, device)\n",
        "  valid_loss, valid_acc = evaluate(model, valid_iterator, criterion, device)\n",
        "  test_loss, test_acc = evaluate(model, test_iterator, criterion, device)\n",
        "\n",
        "  train_loss_list.append(float(train_loss))\n",
        "  test_loss_list.append(float(test_loss))\n",
        "    \n",
        "  #If we find a smaller loss, we save the model\n",
        "  if valid_loss < best_valid_loss:\n",
        "    best_valid_loss = valid_loss\n",
        "    torch.save(model.state_dict(), 'saved-model.pt')\n",
        "    \n",
        "  sys.stdout.write('\\rEpoch {}, Train loss: {:.3f} | Train acc: {:.2f}% -- Val. Loss: {:.3f} | Val. Acc: {:.2f}%'.format(epoch, train_loss, train_acc*100, valid_loss, valid_acc*100))\n",
        "  #print(f'\\tTrain Loss: {train_loss:.3f} | Train Acc: {train_acc*100:.2f}%')\n",
        "  #print(f'\\t Val. Loss: {valid_loss:.3f} |  Val. Acc: {valid_acc*100:.2f}%')"
      ],
      "metadata": {
        "colab": {
          "base_uri": "https://localhost:8080/"
        },
        "id": "eXmjpcdk-qbd",
        "outputId": "4a7fc0b3-0883-4cc1-cf6c-a5d9deec704f"
      },
      "execution_count": 36,
      "outputs": [
        {
          "output_type": "stream",
          "name": "stdout",
          "text": [
            "Epoch 1999, Train loss: 0.318 | Train acc: 37.67% -- Val. Loss: 0.325 | Val. Acc: 31.67%"
          ]
        }
      ]
    },
    {
      "cell_type": "code",
      "source": [
        "#Load the best model\n",
        "model.load_state_dict(torch.load('saved-model.pt'))\n",
        "\n",
        "test_loss , test_acc = evaluate(model, test_iterator, criterion, device)\n",
        "print(f'Test Loss: {test_loss:.3f} | Test Acc: {test_acc*100:.2f}%')"
      ],
      "metadata": {
        "colab": {
          "base_uri": "https://localhost:8080/"
        },
        "id": "DnynSVH4_Dhb",
        "outputId": "c5fadc6b-00fc-4568-cbfd-a9c34b30a1cb"
      },
      "execution_count": 37,
      "outputs": [
        {
          "output_type": "stream",
          "name": "stdout",
          "text": [
            "Test Loss: 0.315 | Test Acc: 36.67%\n"
          ]
        }
      ]
    },
    {
      "cell_type": "code",
      "source": [
        "plt.figure()\n",
        "plt.plot(train_loss_list, color='b', label='Train Loss')\n",
        "plt.plot(test_loss_list, color='r', label='Test loss')\n",
        "plt.title('Loss function lr=0.000001')\n",
        "plt.xlabel('Epochs')\n",
        "plt.ylabel('Loss')\n",
        "plt.legend()\n",
        "plt.show()"
      ],
      "metadata": {
        "colab": {
          "base_uri": "https://localhost:8080/",
          "height": 295
        },
        "id": "5SRowQ-n_Gky",
        "outputId": "3d99471b-6488-4993-849c-46748d021871"
      },
      "execution_count": 38,
      "outputs": [
        {
          "output_type": "display_data",
          "data": {
            "text/plain": [
              "<Figure size 432x288 with 1 Axes>"
            ],
            "image/png": "[encoded data removed]"
          },
          "metadata": {
            "needs_background": "light"
          }
        }
      ]
    },
    {
      "cell_type": "code",
      "source": [
        "plt.figure()\n",
        "plt.plot(train_loss_list_p1, color='b', label='Train Loss')\n",
        "plt.plot(test_loss_list_p1, color='r', label='Test loss')\n",
        "plt.title('Loss function Part 1')\n",
        "plt.xlabel('Epochs')\n",
        "plt.ylabel('Loss')\n",
        "plt.legend()\n",
        "plt.show()"
      ],
      "metadata": {
        "colab": {
          "base_uri": "https://localhost:8080/",
          "height": 295
        },
        "outputId": "6f6ce625-bad1-4abf-9e8f-dc6c23984b9a",
        "id": "lBhccGHmqr5s"
      },
      "execution_count": 39,
      "outputs": [
        {
          "output_type": "display_data",
          "data": {
            "text/plain": [
              "<Figure size 432x288 with 1 Axes>"
            ],
            "image/png": "[encoded data removed]"
          },
          "metadata": {
            "needs_background": "light"
          }
        }
      ]
    },
    {
      "cell_type": "markdown",
      "source": [
        "## Comentarios\n",
        "\n",
        "Aquí el learning rate es muy bajo en comparación con la parte anterior y la parte 1, por lo que se espera que la red aprenda de forma muy lenta pues existen variaciones muy (en exceso) pequeñas respecto a los pesos y bias. Además, puede ocurrir que la red encuentre un mínimo local para la función de costo que no sea tan bueno, entonces ante variaciones tan pequeñas se puede quedar atrapada ahí.\n",
        "\n",
        "En el gráfico con lr=0.000001 es posible ver que la red está aprendiendo pero a un paso muy lento, por lo que necesitaría más epocas pero no es la idea si es que podemos aumentar el learning rate.\n",
        "\n",
        "Es importante mencionar que la red al termino de las 2 mil epocas aprendió muy poco y solo alcanzó un test accuracy de 36%."
      ],
      "metadata": {
        "id": "oNTOM-xS7Qgx"
      }
    },
    {
      "cell_type": "markdown",
      "source": [
        "# **Parte 4**\n",
        "Implementar el algoritmo de gradiente descendente estocástico de manera que los mini-batches se generen de manera aleatoria antes de cada época. Qué resultados obtienes? Discute los resultados. (Hay que explicar el fenómeno observado, dando su opinión de porqué sucede).\n",
        "\n",
        "Graficar la función de loss con respecto a las épocas y comparar con la función de loss de la Parte 1."
      ],
      "metadata": {
        "id": "E9KM20PxqaHU"
      }
    },
    {
      "cell_type": "code",
      "source": [
        "#Pytorch has a nice feature to prepare data. The DataLoader creates an iterator of batches which are very convenient for training\n",
        "#Set the batch size the biggest value as possible depending on your GPU. Operations in a batch are parallelized.\n",
        "BATCH_SIZE = 20\n",
        "\n",
        "train_iterator = data.DataLoader(train_data, shuffle=True, batch_size=BATCH_SIZE)\n",
        "valid_iterator = data.DataLoader(valid_data, batch_size=BATCH_SIZE)\n",
        "test_iterator = data.DataLoader(test_data, batch_size=BATCH_SIZE)"
      ],
      "metadata": {
        "id": "od68sOtq3U8F"
      },
      "execution_count": 40,
      "outputs": []
    },
    {
      "cell_type": "code",
      "source": [
        "# Create the model\n",
        "INPUT_DIM = 16\n",
        "OUTPUT_DIM = 1\n",
        "\n",
        "model = MLP(INPUT_DIM, OUTPUT_DIM)\n",
        "\n",
        "#Create the object for the optimization. \n",
        "optimizer = optim.SGD(model.parameters(), lr=0.01)\n",
        "\n",
        "criterion = nn.MSELoss()\n",
        "#criterion = nn.BCELoss()\n",
        "\n",
        "#Send the model and the loss object to the GPU\n",
        "\n",
        "model = model.to(device)\n",
        "criterion = criterion.to(device)\n",
        "\n",
        "#Let's perform the training\n",
        "\n",
        "EPOCHS = 2000\n",
        "\n",
        "best_valid_loss = float('inf')\n",
        "\n",
        "train_loss_list = []\n",
        "test_loss_list = []\n",
        "\n",
        "for epoch in range(EPOCHS):\n",
        "\n",
        "  #Train + validation cycles  \n",
        "  train_loss, train_acc = train(model, train_iterator, optimizer, criterion, device)\n",
        "  valid_loss, valid_acc = evaluate(model, valid_iterator, criterion, device)\n",
        "  test_loss, test_acc = evaluate(model, test_iterator, criterion, device)\n",
        "\n",
        "  train_loss_list.append(float(train_loss))\n",
        "  test_loss_list.append(float(test_loss))\n",
        "    \n",
        "  #If we find a smaller loss, we save the model\n",
        "  if valid_loss < best_valid_loss:\n",
        "    best_valid_loss = valid_loss\n",
        "    torch.save(model.state_dict(), 'saved-model.pt')\n",
        "    \n",
        "  sys.stdout.write('\\rEpoch {}, Train loss: {:.3f} | Train acc: {:.2f}% -- Val. Loss: {:.3f} | Val. Acc: {:.2f}%'.format(epoch, train_loss, train_acc*100, valid_loss, valid_acc*100))\n",
        "  #print(f'\\tTrain Loss: {train_loss:.3f} | Train Acc: {train_acc*100:.2f}%')\n",
        "  #print(f'\\t Val. Loss: {valid_loss:.3f} |  Val. Acc: {valid_acc*100:.2f}%')"
      ],
      "metadata": {
        "colab": {
          "base_uri": "https://localhost:8080/"
        },
        "id": "qZ045ec5_OUl",
        "outputId": "acb378a2-9032-43d7-92f6-f5bd28778f6f"
      },
      "execution_count": 41,
      "outputs": [
        {
          "output_type": "stream",
          "name": "stdout",
          "text": [
            "Epoch 1999, Train loss: 0.001 | Train acc: 100.00% -- Val. Loss: 0.021 | Val. Acc: 98.33%"
          ]
        }
      ]
    },
    {
      "cell_type": "code",
      "source": [
        "#Load the best model\n",
        "model.load_state_dict(torch.load('saved-model.pt'))\n",
        "\n",
        "test_loss , test_acc = evaluate(model, test_iterator, criterion, device)\n",
        "print(f'Test Loss: {test_loss:.3f} | Test Acc: {test_acc*100:.2f}%')"
      ],
      "metadata": {
        "colab": {
          "base_uri": "https://localhost:8080/"
        },
        "id": "1DfHtIOm_t3F",
        "outputId": "3a633c1a-3655-43e5-d9c4-da26be42a925"
      },
      "execution_count": 42,
      "outputs": [
        {
          "output_type": "stream",
          "name": "stdout",
          "text": [
            "Test Loss: 0.062 | Test Acc: 94.17%\n"
          ]
        }
      ]
    },
    {
      "cell_type": "code",
      "source": [
        "plt.figure()\n",
        "plt.plot(train_loss_list, color='b', label='Train Loss')\n",
        "plt.plot(test_loss_list, color='r', label='Test loss')\n",
        "plt.title('Loss function with shuffled data')\n",
        "plt.xlabel('Epochs')\n",
        "plt.ylabel('Loss')\n",
        "plt.legend()\n",
        "plt.show()"
      ],
      "metadata": {
        "colab": {
          "base_uri": "https://localhost:8080/",
          "height": 295
        },
        "id": "vgiRSpTk_vk9",
        "outputId": "11c3984e-e26a-48ff-bc85-1347f5a1351b"
      },
      "execution_count": 43,
      "outputs": [
        {
          "output_type": "display_data",
          "data": {
            "text/plain": [
              "<Figure size 432x288 with 1 Axes>"
            ],
            "image/png": "[encoded data removed]"
          },
          "metadata": {
            "needs_background": "light"
          }
        }
      ]
    },
    {
      "cell_type": "code",
      "source": [
        "plt.figure()\n",
        "plt.plot(train_loss_list_p1, color='b', label='Train Loss')\n",
        "plt.plot(test_loss_list_p1, color='r', label='Test loss')\n",
        "plt.title('Loss function Part 1')\n",
        "plt.xlabel('Epochs')\n",
        "plt.ylabel('Loss')\n",
        "plt.legend()\n",
        "plt.show()"
      ],
      "metadata": {
        "colab": {
          "base_uri": "https://localhost:8080/",
          "height": 295
        },
        "outputId": "1eab4cb0-eb5b-4485-95fb-b44d00c13d7a",
        "id": "0vfnxq5rqu0v"
      },
      "execution_count": 44,
      "outputs": [
        {
          "output_type": "display_data",
          "data": {
            "text/plain": [
              "<Figure size 432x288 with 1 Axes>"
            ],
            "image/png": "[encoded data removed]"
          },
          "metadata": {
            "needs_background": "light"
          }
        }
      ]
    },
    {
      "cell_type": "markdown",
      "source": [
        "## Comentarios\n",
        "\n",
        "Al revolver la data antes de las épocas de forma aleatoria reducimos las probabilidades de que en algún batch nos queden muestras que no ayuden a minimizar la función de costo. Así, es posible esperar que en cada batch tengamos muestras heterogéneas que permita a la red minimizar la función de costos.\n",
        "\n",
        "Si comparamos los resultados obtenidos con la parte 1 vemos que la red converge a un rango del mismo valor."
      ],
      "metadata": {
        "id": "gMN4XAWi7XQW"
      }
    }
  ]
}