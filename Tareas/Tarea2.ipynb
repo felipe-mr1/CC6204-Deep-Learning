{
  "nbformat": 4,
  "nbformat_minor": 0,
  "metadata": {
    "colab": {
      "provenance": [],
      "collapsed_sections": []
    },
    "kernelspec": {
      "name": "python3",
      "display_name": "Python 3"
    },
    "language_info": {
      "name": "python"
    },
    "accelerator": "GPU",
    "gpuClass": "standard",
    "widgets": {
      "application/vnd.jupyter.widget-state+json": {
        "df1cf62224db4098923813c35db0aa03": {
          "model_module": "@jupyter-widgets/controls",
          "model_name": "HBoxModel",
          "model_module_version": "1.5.0",
          "state": {
            "_dom_classes": [],
            "_model_module": "@jupyter-widgets/controls",
            "_model_module_version": "1.5.0",
            "_model_name": "HBoxModel",
            "_view_count": null,
            "_view_module": "@jupyter-widgets/controls",
            "_view_module_version": "1.5.0",
            "_view_name": "HBoxView",
            "box_style": "",
            "children": [
              "IPY_MODEL_ccd336465dae4a809c93f6f20afb6eb2",
              "IPY_MODEL_16b1af17aa0941b3bd8b13bea0a3c82b",
              "IPY_MODEL_554ee46009814eef9da1478310203a42"
            ],
            "layout": "IPY_MODEL_a791bfd0204e431384818385eadf99b9"
          }
        },
        "ccd336465dae4a809c93f6f20afb6eb2": {
          "model_module": "@jupyter-widgets/controls",
          "model_name": "HTMLModel",
          "model_module_version": "1.5.0",
          "state": {
            "_dom_classes": [],
            "_model_module": "@jupyter-widgets/controls",
            "_model_module_version": "1.5.0",
            "_model_name": "HTMLModel",
            "_view_count": null,
            "_view_module": "@jupyter-widgets/controls",
            "_view_module_version": "1.5.0",
            "_view_name": "HTMLView",
            "description": "",
            "description_tooltip": null,
            "layout": "IPY_MODEL_222c4258a0ed46039db0360ec6e058b5",
            "placeholder": "​",
            "style": "IPY_MODEL_f159b799c72b4f9ba90880e09f948771",
            "value": "100%"
          }
        },
        "16b1af17aa0941b3bd8b13bea0a3c82b": {
          "model_module": "@jupyter-widgets/controls",
          "model_name": "FloatProgressModel",
          "model_module_version": "1.5.0",
          "state": {
            "_dom_classes": [],
            "_model_module": "@jupyter-widgets/controls",
            "_model_module_version": "1.5.0",
            "_model_name": "FloatProgressModel",
            "_view_count": null,
            "_view_module": "@jupyter-widgets/controls",
            "_view_module_version": "1.5.0",
            "_view_name": "ProgressView",
            "bar_style": "success",
            "description": "",
            "description_tooltip": null,
            "layout": "IPY_MODEL_47eefd64a421482da46e35b46ba597eb",
            "max": 26421880,
            "min": 0,
            "orientation": "horizontal",
            "style": "IPY_MODEL_cc7ab1f24ce64933829f948a5ee6a30b",
            "value": 26421880
          }
        },
        "554ee46009814eef9da1478310203a42": {
          "model_module": "@jupyter-widgets/controls",
          "model_name": "HTMLModel",
          "model_module_version": "1.5.0",
          "state": {
            "_dom_classes": [],
            "_model_module": "@jupyter-widgets/controls",
            "_model_module_version": "1.5.0",
            "_model_name": "HTMLModel",
            "_view_count": null,
            "_view_module": "@jupyter-widgets/controls",
            "_view_module_version": "1.5.0",
            "_view_name": "HTMLView",
            "description": "",
            "description_tooltip": null,
            "layout": "IPY_MODEL_c8c43742b95b4ca1a26826b24d831ca1",
            "placeholder": "​",
            "style": "IPY_MODEL_59450a1571714a128074eb8ed4fe97da",
            "value": " 26421880/26421880 [00:03&lt;00:00, 14225392.81it/s]"
          }
        },
        "a791bfd0204e431384818385eadf99b9": {
          "model_module": "@jupyter-widgets/base",
          "model_name": "LayoutModel",
          "model_module_version": "1.2.0",
          "state": {
            "_model_module": "@jupyter-widgets/base",
            "_model_module_version": "1.2.0",
            "_model_name": "LayoutModel",
            "_view_count": null,
            "_view_module": "@jupyter-widgets/base",
            "_view_module_version": "1.2.0",
            "_view_name": "LayoutView",
            "align_content": null,
            "align_items": null,
            "align_self": null,
            "border": null,
            "bottom": null,
            "display": null,
            "flex": null,
            "flex_flow": null,
            "grid_area": null,
            "grid_auto_columns": null,
            "grid_auto_flow": null,
            "grid_auto_rows": null,
            "grid_column": null,
            "grid_gap": null,
            "grid_row": null,
            "grid_template_areas": null,
            "grid_template_columns": null,
            "grid_template_rows": null,
            "height": null,
            "justify_content": null,
            "justify_items": null,
            "left": null,
            "margin": null,
            "max_height": null,
            "max_width": null,
            "min_height": null,
            "min_width": null,
            "object_fit": null,
            "object_position": null,
            "order": null,
            "overflow": null,
            "overflow_x": null,
            "overflow_y": null,
            "padding": null,
            "right": null,
            "top": null,
            "visibility": null,
            "width": null
          }
        },
        "222c4258a0ed46039db0360ec6e058b5": {
          "model_module": "@jupyter-widgets/base",
          "model_name": "LayoutModel",
          "model_module_version": "1.2.0",
          "state": {
            "_model_module": "@jupyter-widgets/base",
            "_model_module_version": "1.2.0",
            "_model_name": "LayoutModel",
            "_view_count": null,
            "_view_module": "@jupyter-widgets/base",
            "_view_module_version": "1.2.0",
            "_view_name": "LayoutView",
            "align_content": null,
            "align_items": null,
            "align_self": null,
            "border": null,
            "bottom": null,
            "display": null,
            "flex": null,
            "flex_flow": null,
            "grid_area": null,
            "grid_auto_columns": null,
            "grid_auto_flow": null,
            "grid_auto_rows": null,
            "grid_column": null,
            "grid_gap": null,
            "grid_row": null,
            "grid_template_areas": null,
            "grid_template_columns": null,
            "grid_template_rows": null,
            "height": null,
            "justify_content": null,
            "justify_items": null,
            "left": null,
            "margin": null,
            "max_height": null,
            "max_width": null,
            "min_height": null,
            "min_width": null,
            "object_fit": null,
            "object_position": null,
            "order": null,
            "overflow": null,
            "overflow_x": null,
            "overflow_y": null,
            "padding": null,
            "right": null,
            "top": null,
            "visibility": null,
            "width": null
          }
        },
        "f159b799c72b4f9ba90880e09f948771": {
          "model_module": "@jupyter-widgets/controls",
          "model_name": "DescriptionStyleModel",
          "model_module_version": "1.5.0",
          "state": {
            "_model_module": "@jupyter-widgets/controls",
            "_model_module_version": "1.5.0",
            "_model_name": "DescriptionStyleModel",
            "_view_count": null,
            "_view_module": "@jupyter-widgets/base",
            "_view_module_version": "1.2.0",
            "_view_name": "StyleView",
            "description_width": ""
          }
        },
        "47eefd64a421482da46e35b46ba597eb": {
          "model_module": "@jupyter-widgets/base",
          "model_name": "LayoutModel",
          "model_module_version": "1.2.0",
          "state": {
            "_model_module": "@jupyter-widgets/base",
            "_model_module_version": "1.2.0",
            "_model_name": "LayoutModel",
            "_view_count": null,
            "_view_module": "@jupyter-widgets/base",
            "_view_module_version": "1.2.0",
            "_view_name": "LayoutView",
            "align_content": null,
            "align_items": null,
            "align_self": null,
            "border": null,
            "bottom": null,
            "display": null,
            "flex": null,
            "flex_flow": null,
            "grid_area": null,
            "grid_auto_columns": null,
            "grid_auto_flow": null,
            "grid_auto_rows": null,
            "grid_column": null,
            "grid_gap": null,
            "grid_row": null,
            "grid_template_areas": null,
            "grid_template_columns": null,
            "grid_template_rows": null,
            "height": null,
            "justify_content": null,
            "justify_items": null,
            "left": null,
            "margin": null,
            "max_height": null,
            "max_width": null,
            "min_height": null,
            "min_width": null,
            "object_fit": null,
            "object_position": null,
            "order": null,
            "overflow": null,
            "overflow_x": null,
            "overflow_y": null,
            "padding": null,
            "right": null,
            "top": null,
            "visibility": null,
            "width": null
          }
        },
        "cc7ab1f24ce64933829f948a5ee6a30b": {
          "model_module": "@jupyter-widgets/controls",
          "model_name": "ProgressStyleModel",
          "model_module_version": "1.5.0",
          "state": {
            "_model_module": "@jupyter-widgets/controls",
            "_model_module_version": "1.5.0",
            "_model_name": "ProgressStyleModel",
            "_view_count": null,
            "_view_module": "@jupyter-widgets/base",
            "_view_module_version": "1.2.0",
            "_view_name": "StyleView",
            "bar_color": null,
            "description_width": ""
          }
        },
        "c8c43742b95b4ca1a26826b24d831ca1": {
          "model_module": "@jupyter-widgets/base",
          "model_name": "LayoutModel",
          "model_module_version": "1.2.0",
          "state": {
            "_model_module": "@jupyter-widgets/base",
            "_model_module_version": "1.2.0",
            "_model_name": "LayoutModel",
            "_view_count": null,
            "_view_module": "@jupyter-widgets/base",
            "_view_module_version": "1.2.0",
            "_view_name": "LayoutView",
            "align_content": null,
            "align_items": null,
            "align_self": null,
            "border": null,
            "bottom": null,
            "display": null,
            "flex": null,
            "flex_flow": null,
            "grid_area": null,
            "grid_auto_columns": null,
            "grid_auto_flow": null,
            "grid_auto_rows": null,
            "grid_column": null,
            "grid_gap": null,
            "grid_row": null,
            "grid_template_areas": null,
            "grid_template_columns": null,
            "grid_template_rows": null,
            "height": null,
            "justify_content": null,
            "justify_items": null,
            "left": null,
            "margin": null,
            "max_height": null,
            "max_width": null,
            "min_height": null,
            "min_width": null,
            "object_fit": null,
            "object_position": null,
            "order": null,
            "overflow": null,
            "overflow_x": null,
            "overflow_y": null,
            "padding": null,
            "right": null,
            "top": null,
            "visibility": null,
            "width": null
          }
        },
        "59450a1571714a128074eb8ed4fe97da": {
          "model_module": "@jupyter-widgets/controls",
          "model_name": "DescriptionStyleModel",
          "model_module_version": "1.5.0",
          "state": {
            "_model_module": "@jupyter-widgets/controls",
            "_model_module_version": "1.5.0",
            "_model_name": "DescriptionStyleModel",
            "_view_count": null,
            "_view_module": "@jupyter-widgets/base",
            "_view_module_version": "1.2.0",
            "_view_name": "StyleView",
            "description_width": ""
          }
        },
        "a182a6214eb948c7b58167121d509903": {
          "model_module": "@jupyter-widgets/controls",
          "model_name": "HBoxModel",
          "model_module_version": "1.5.0",
          "state": {
            "_dom_classes": [],
            "_model_module": "@jupyter-widgets/controls",
            "_model_module_version": "1.5.0",
            "_model_name": "HBoxModel",
            "_view_count": null,
            "_view_module": "@jupyter-widgets/controls",
            "_view_module_version": "1.5.0",
            "_view_name": "HBoxView",
            "box_style": "",
            "children": [
              "IPY_MODEL_f7c3c6007ffc4c0f9702bd98ab4f3865",
              "IPY_MODEL_eb0d1fd722e64d119e77321237b768e6",
              "IPY_MODEL_07eee3afa680435293a3bbdf9fc89304"
            ],
            "layout": "IPY_MODEL_b40eefa17c5d414e9a4842b8a83859b9"
          }
        },
        "f7c3c6007ffc4c0f9702bd98ab4f3865": {
          "model_module": "@jupyter-widgets/controls",
          "model_name": "HTMLModel",
          "model_module_version": "1.5.0",
          "state": {
            "_dom_classes": [],
            "_model_module": "@jupyter-widgets/controls",
            "_model_module_version": "1.5.0",
            "_model_name": "HTMLModel",
            "_view_count": null,
            "_view_module": "@jupyter-widgets/controls",
            "_view_module_version": "1.5.0",
            "_view_name": "HTMLView",
            "description": "",
            "description_tooltip": null,
            "layout": "IPY_MODEL_a7dbd5241f664556a737aab17edb84d1",
            "placeholder": "​",
            "style": "IPY_MODEL_c78827bd63f742578b41fc348d51531b",
            "value": "100%"
          }
        },
        "eb0d1fd722e64d119e77321237b768e6": {
          "model_module": "@jupyter-widgets/controls",
          "model_name": "FloatProgressModel",
          "model_module_version": "1.5.0",
          "state": {
            "_dom_classes": [],
            "_model_module": "@jupyter-widgets/controls",
            "_model_module_version": "1.5.0",
            "_model_name": "FloatProgressModel",
            "_view_count": null,
            "_view_module": "@jupyter-widgets/controls",
            "_view_module_version": "1.5.0",
            "_view_name": "ProgressView",
            "bar_style": "success",
            "description": "",
            "description_tooltip": null,
            "layout": "IPY_MODEL_9f4fdbf520254fc2bd62c67e4c12c055",
            "max": 29515,
            "min": 0,
            "orientation": "horizontal",
            "style": "IPY_MODEL_cae3a8a57f8e49f39d669ced9cf73de6",
            "value": 29515
          }
        },
        "07eee3afa680435293a3bbdf9fc89304": {
          "model_module": "@jupyter-widgets/controls",
          "model_name": "HTMLModel",
          "model_module_version": "1.5.0",
          "state": {
            "_dom_classes": [],
            "_model_module": "@jupyter-widgets/controls",
            "_model_module_version": "1.5.0",
            "_model_name": "HTMLModel",
            "_view_count": null,
            "_view_module": "@jupyter-widgets/controls",
            "_view_module_version": "1.5.0",
            "_view_name": "HTMLView",
            "description": "",
            "description_tooltip": null,
            "layout": "IPY_MODEL_ae657852d1e946e4b74ff6a7dae090b2",
            "placeholder": "​",
            "style": "IPY_MODEL_e5686246db87489396cf7811b9b81934",
            "value": " 29515/29515 [00:00&lt;00:00, 147414.35it/s]"
          }
        },
        "b40eefa17c5d414e9a4842b8a83859b9": {
          "model_module": "@jupyter-widgets/base",
          "model_name": "LayoutModel",
          "model_module_version": "1.2.0",
          "state": {
            "_model_module": "@jupyter-widgets/base",
            "_model_module_version": "1.2.0",
            "_model_name": "LayoutModel",
            "_view_count": null,
            "_view_module": "@jupyter-widgets/base",
            "_view_module_version": "1.2.0",
            "_view_name": "LayoutView",
            "align_content": null,
            "align_items": null,
            "align_self": null,
            "border": null,
            "bottom": null,
            "display": null,
            "flex": null,
            "flex_flow": null,
            "grid_area": null,
            "grid_auto_columns": null,
            "grid_auto_flow": null,
            "grid_auto_rows": null,
            "grid_column": null,
            "grid_gap": null,
            "grid_row": null,
            "grid_template_areas": null,
            "grid_template_columns": null,
            "grid_template_rows": null,
            "height": null,
            "justify_content": null,
            "justify_items": null,
            "left": null,
            "margin": null,
            "max_height": null,
            "max_width": null,
            "min_height": null,
            "min_width": null,
            "object_fit": null,
            "object_position": null,
            "order": null,
            "overflow": null,
            "overflow_x": null,
            "overflow_y": null,
            "padding": null,
            "right": null,
            "top": null,
            "visibility": null,
            "width": null
          }
        },
        "a7dbd5241f664556a737aab17edb84d1": {
          "model_module": "@jupyter-widgets/base",
          "model_name": "LayoutModel",
          "model_module_version": "1.2.0",
          "state": {
            "_model_module": "@jupyter-widgets/base",
            "_model_module_version": "1.2.0",
            "_model_name": "LayoutModel",
            "_view_count": null,
            "_view_module": "@jupyter-widgets/base",
            "_view_module_version": "1.2.0",
            "_view_name": "LayoutView",
            "align_content": null,
            "align_items": null,
            "align_self": null,
            "border": null,
            "bottom": null,
            "display": null,
            "flex": null,
            "flex_flow": null,
            "grid_area": null,
            "grid_auto_columns": null,
            "grid_auto_flow": null,
            "grid_auto_rows": null,
            "grid_column": null,
            "grid_gap": null,
            "grid_row": null,
            "grid_template_areas": null,
            "grid_template_columns": null,
            "grid_template_rows": null,
            "height": null,
            "justify_content": null,
            "justify_items": null,
            "left": null,
            "margin": null,
            "max_height": null,
            "max_width": null,
            "min_height": null,
            "min_width": null,
            "object_fit": null,
            "object_position": null,
            "order": null,
            "overflow": null,
            "overflow_x": null,
            "overflow_y": null,
            "padding": null,
            "right": null,
            "top": null,
            "visibility": null,
            "width": null
          }
        },
        "c78827bd63f742578b41fc348d51531b": {
          "model_module": "@jupyter-widgets/controls",
          "model_name": "DescriptionStyleModel",
          "model_module_version": "1.5.0",
          "state": {
            "_model_module": "@jupyter-widgets/controls",
            "_model_module_version": "1.5.0",
            "_model_name": "DescriptionStyleModel",
            "_view_count": null,
            "_view_module": "@jupyter-widgets/base",
            "_view_module_version": "1.2.0",
            "_view_name": "StyleView",
            "description_width": ""
          }
        },
        "9f4fdbf520254fc2bd62c67e4c12c055": {
          "model_module": "@jupyter-widgets/base",
          "model_name": "LayoutModel",
          "model_module_version": "1.2.0",
          "state": {
            "_model_module": "@jupyter-widgets/base",
            "_model_module_version": "1.2.0",
            "_model_name": "LayoutModel",
            "_view_count": null,
            "_view_module": "@jupyter-widgets/base",
            "_view_module_version": "1.2.0",
            "_view_name": "LayoutView",
            "align_content": null,
            "align_items": null,
            "align_self": null,
            "border": null,
            "bottom": null,
            "display": null,
            "flex": null,
            "flex_flow": null,
            "grid_area": null,
            "grid_auto_columns": null,
            "grid_auto_flow": null,
            "grid_auto_rows": null,
            "grid_column": null,
            "grid_gap": null,
            "grid_row": null,
            "grid_template_areas": null,
            "grid_template_columns": null,
            "grid_template_rows": null,
            "height": null,
            "justify_content": null,
            "justify_items": null,
            "left": null,
            "margin": null,
            "max_height": null,
            "max_width": null,
            "min_height": null,
            "min_width": null,
            "object_fit": null,
            "object_position": null,
            "order": null,
            "overflow": null,
            "overflow_x": null,
            "overflow_y": null,
            "padding": null,
            "right": null,
            "top": null,
            "visibility": null,
            "width": null
          }
        },
        "cae3a8a57f8e49f39d669ced9cf73de6": {
          "model_module": "@jupyter-widgets/controls",
          "model_name": "ProgressStyleModel",
          "model_module_version": "1.5.0",
          "state": {
            "_model_module": "@jupyter-widgets/controls",
            "_model_module_version": "1.5.0",
            "_model_name": "ProgressStyleModel",
            "_view_count": null,
            "_view_module": "@jupyter-widgets/base",
            "_view_module_version": "1.2.0",
            "_view_name": "StyleView",
            "bar_color": null,
            "description_width": ""
          }
        },
        "ae657852d1e946e4b74ff6a7dae090b2": {
          "model_module": "@jupyter-widgets/base",
          "model_name": "LayoutModel",
          "model_module_version": "1.2.0",
          "state": {
            "_model_module": "@jupyter-widgets/base",
            "_model_module_version": "1.2.0",
            "_model_name": "LayoutModel",
            "_view_count": null,
            "_view_module": "@jupyter-widgets/base",
            "_view_module_version": "1.2.0",
            "_view_name": "LayoutView",
            "align_content": null,
            "align_items": null,
            "align_self": null,
            "border": null,
            "bottom": null,
            "display": null,
            "flex": null,
            "flex_flow": null,
            "grid_area": null,
            "grid_auto_columns": null,
            "grid_auto_flow": null,
            "grid_auto_rows": null,
            "grid_column": null,
            "grid_gap": null,
            "grid_row": null,
            "grid_template_areas": null,
            "grid_template_columns": null,
            "grid_template_rows": null,
            "height": null,
            "justify_content": null,
            "justify_items": null,
            "left": null,
            "margin": null,
            "max_height": null,
            "max_width": null,
            "min_height": null,
            "min_width": null,
            "object_fit": null,
            "object_position": null,
            "order": null,
            "overflow": null,
            "overflow_x": null,
            "overflow_y": null,
            "padding": null,
            "right": null,
            "top": null,
            "visibility": null,
            "width": null
          }
        },
        "e5686246db87489396cf7811b9b81934": {
          "model_module": "@jupyter-widgets/controls",
          "model_name": "DescriptionStyleModel",
          "model_module_version": "1.5.0",
          "state": {
            "_model_module": "@jupyter-widgets/controls",
            "_model_module_version": "1.5.0",
            "_model_name": "DescriptionStyleModel",
            "_view_count": null,
            "_view_module": "@jupyter-widgets/base",
            "_view_module_version": "1.2.0",
            "_view_name": "StyleView",
            "description_width": ""
          }
        },
        "47dd8190f1e1421ea630605cee619471": {
          "model_module": "@jupyter-widgets/controls",
          "model_name": "HBoxModel",
          "model_module_version": "1.5.0",
          "state": {
            "_dom_classes": [],
            "_model_module": "@jupyter-widgets/controls",
            "_model_module_version": "1.5.0",
            "_model_name": "HBoxModel",
            "_view_count": null,
            "_view_module": "@jupyter-widgets/controls",
            "_view_module_version": "1.5.0",
            "_view_name": "HBoxView",
            "box_style": "",
            "children": [
              "IPY_MODEL_7f823d4316e5490f8b1d0d596291022b",
              "IPY_MODEL_6257afbb2ddb4f8e92f1e2120dfb5517",
              "IPY_MODEL_bf3a0bdae55243c69aa2294fde8876a8"
            ],
            "layout": "IPY_MODEL_92326a2e9e5a42af99e48c398b6714bc"
          }
        },
        "7f823d4316e5490f8b1d0d596291022b": {
          "model_module": "@jupyter-widgets/controls",
          "model_name": "HTMLModel",
          "model_module_version": "1.5.0",
          "state": {
            "_dom_classes": [],
            "_model_module": "@jupyter-widgets/controls",
            "_model_module_version": "1.5.0",
            "_model_name": "HTMLModel",
            "_view_count": null,
            "_view_module": "@jupyter-widgets/controls",
            "_view_module_version": "1.5.0",
            "_view_name": "HTMLView",
            "description": "",
            "description_tooltip": null,
            "layout": "IPY_MODEL_09674af237394b2aae71e01c70971c49",
            "placeholder": "​",
            "style": "IPY_MODEL_5ba308abd6544e8aa36a16e3654883b2",
            "value": "100%"
          }
        },
        "6257afbb2ddb4f8e92f1e2120dfb5517": {
          "model_module": "@jupyter-widgets/controls",
          "model_name": "FloatProgressModel",
          "model_module_version": "1.5.0",
          "state": {
            "_dom_classes": [],
            "_model_module": "@jupyter-widgets/controls",
            "_model_module_version": "1.5.0",
            "_model_name": "FloatProgressModel",
            "_view_count": null,
            "_view_module": "@jupyter-widgets/controls",
            "_view_module_version": "1.5.0",
            "_view_name": "ProgressView",
            "bar_style": "success",
            "description": "",
            "description_tooltip": null,
            "layout": "IPY_MODEL_e719611a09a147bdb7918397007dfba0",
            "max": 4422102,
            "min": 0,
            "orientation": "horizontal",
            "style": "IPY_MODEL_ec86421bd8f540ca9da873545cdf15fa",
            "value": 4422102
          }
        },
        "bf3a0bdae55243c69aa2294fde8876a8": {
          "model_module": "@jupyter-widgets/controls",
          "model_name": "HTMLModel",
          "model_module_version": "1.5.0",
          "state": {
            "_dom_classes": [],
            "_model_module": "@jupyter-widgets/controls",
            "_model_module_version": "1.5.0",
            "_model_name": "HTMLModel",
            "_view_count": null,
            "_view_module": "@jupyter-widgets/controls",
            "_view_module_version": "1.5.0",
            "_view_name": "HTMLView",
            "description": "",
            "description_tooltip": null,
            "layout": "IPY_MODEL_3f67eedc9d74408591cc2ba02cabbab6",
            "placeholder": "​",
            "style": "IPY_MODEL_de8c7accfaf54a14bc03ff627dbe49c9",
            "value": " 4422102/4422102 [00:01&lt;00:00, 4684397.32it/s]"
          }
        },
        "92326a2e9e5a42af99e48c398b6714bc": {
          "model_module": "@jupyter-widgets/base",
          "model_name": "LayoutModel",
          "model_module_version": "1.2.0",
          "state": {
            "_model_module": "@jupyter-widgets/base",
            "_model_module_version": "1.2.0",
            "_model_name": "LayoutModel",
            "_view_count": null,
            "_view_module": "@jupyter-widgets/base",
            "_view_module_version": "1.2.0",
            "_view_name": "LayoutView",
            "align_content": null,
            "align_items": null,
            "align_self": null,
            "border": null,
            "bottom": null,
            "display": null,
            "flex": null,
            "flex_flow": null,
            "grid_area": null,
            "grid_auto_columns": null,
            "grid_auto_flow": null,
            "grid_auto_rows": null,
            "grid_column": null,
            "grid_gap": null,
            "grid_row": null,
            "grid_template_areas": null,
            "grid_template_columns": null,
            "grid_template_rows": null,
            "height": null,
            "justify_content": null,
            "justify_items": null,
            "left": null,
            "margin": null,
            "max_height": null,
            "max_width": null,
            "min_height": null,
            "min_width": null,
            "object_fit": null,
            "object_position": null,
            "order": null,
            "overflow": null,
            "overflow_x": null,
            "overflow_y": null,
            "padding": null,
            "right": null,
            "top": null,
            "visibility": null,
            "width": null
          }
        },
        "09674af237394b2aae71e01c70971c49": {
          "model_module": "@jupyter-widgets/base",
          "model_name": "LayoutModel",
          "model_module_version": "1.2.0",
          "state": {
            "_model_module": "@jupyter-widgets/base",
            "_model_module_version": "1.2.0",
            "_model_name": "LayoutModel",
            "_view_count": null,
            "_view_module": "@jupyter-widgets/base",
            "_view_module_version": "1.2.0",
            "_view_name": "LayoutView",
            "align_content": null,
            "align_items": null,
            "align_self": null,
            "border": null,
            "bottom": null,
            "display": null,
            "flex": null,
            "flex_flow": null,
            "grid_area": null,
            "grid_auto_columns": null,
            "grid_auto_flow": null,
            "grid_auto_rows": null,
            "grid_column": null,
            "grid_gap": null,
            "grid_row": null,
            "grid_template_areas": null,
            "grid_template_columns": null,
            "grid_template_rows": null,
            "height": null,
            "justify_content": null,
            "justify_items": null,
            "left": null,
            "margin": null,
            "max_height": null,
            "max_width": null,
            "min_height": null,
            "min_width": null,
            "object_fit": null,
            "object_position": null,
            "order": null,
            "overflow": null,
            "overflow_x": null,
            "overflow_y": null,
            "padding": null,
            "right": null,
            "top": null,
            "visibility": null,
            "width": null
          }
        },
        "5ba308abd6544e8aa36a16e3654883b2": {
          "model_module": "@jupyter-widgets/controls",
          "model_name": "DescriptionStyleModel",
          "model_module_version": "1.5.0",
          "state": {
            "_model_module": "@jupyter-widgets/controls",
            "_model_module_version": "1.5.0",
            "_model_name": "DescriptionStyleModel",
            "_view_count": null,
            "_view_module": "@jupyter-widgets/base",
            "_view_module_version": "1.2.0",
            "_view_name": "StyleView",
            "description_width": ""
          }
        },
        "e719611a09a147bdb7918397007dfba0": {
          "model_module": "@jupyter-widgets/base",
          "model_name": "LayoutModel",
          "model_module_version": "1.2.0",
          "state": {
            "_model_module": "@jupyter-widgets/base",
            "_model_module_version": "1.2.0",
            "_model_name": "LayoutModel",
            "_view_count": null,
            "_view_module": "@jupyter-widgets/base",
            "_view_module_version": "1.2.0",
            "_view_name": "LayoutView",
            "align_content": null,
            "align_items": null,
            "align_self": null,
            "border": null,
            "bottom": null,
            "display": null,
            "flex": null,
            "flex_flow": null,
            "grid_area": null,
            "grid_auto_columns": null,
            "grid_auto_flow": null,
            "grid_auto_rows": null,
            "grid_column": null,
            "grid_gap": null,
            "grid_row": null,
            "grid_template_areas": null,
            "grid_template_columns": null,
            "grid_template_rows": null,
            "height": null,
            "justify_content": null,
            "justify_items": null,
            "left": null,
            "margin": null,
            "max_height": null,
            "max_width": null,
            "min_height": null,
            "min_width": null,
            "object_fit": null,
            "object_position": null,
            "order": null,
            "overflow": null,
            "overflow_x": null,
            "overflow_y": null,
            "padding": null,
            "right": null,
            "top": null,
            "visibility": null,
            "width": null
          }
        },
        "ec86421bd8f540ca9da873545cdf15fa": {
          "model_module": "@jupyter-widgets/controls",
          "model_name": "ProgressStyleModel",
          "model_module_version": "1.5.0",
          "state": {
            "_model_module": "@jupyter-widgets/controls",
            "_model_module_version": "1.5.0",
            "_model_name": "ProgressStyleModel",
            "_view_count": null,
            "_view_module": "@jupyter-widgets/base",
            "_view_module_version": "1.2.0",
            "_view_name": "StyleView",
            "bar_color": null,
            "description_width": ""
          }
        },
        "3f67eedc9d74408591cc2ba02cabbab6": {
          "model_module": "@jupyter-widgets/base",
          "model_name": "LayoutModel",
          "model_module_version": "1.2.0",
          "state": {
            "_model_module": "@jupyter-widgets/base",
            "_model_module_version": "1.2.0",
            "_model_name": "LayoutModel",
            "_view_count": null,
            "_view_module": "@jupyter-widgets/base",
            "_view_module_version": "1.2.0",
            "_view_name": "LayoutView",
            "align_content": null,
            "align_items": null,
            "align_self": null,
            "border": null,
            "bottom": null,
            "display": null,
            "flex": null,
            "flex_flow": null,
            "grid_area": null,
            "grid_auto_columns": null,
            "grid_auto_flow": null,
            "grid_auto_rows": null,
            "grid_column": null,
            "grid_gap": null,
            "grid_row": null,
            "grid_template_areas": null,
            "grid_template_columns": null,
            "grid_template_rows": null,
            "height": null,
            "justify_content": null,
            "justify_items": null,
            "left": null,
            "margin": null,
            "max_height": null,
            "max_width": null,
            "min_height": null,
            "min_width": null,
            "object_fit": null,
            "object_position": null,
            "order": null,
            "overflow": null,
            "overflow_x": null,
            "overflow_y": null,
            "padding": null,
            "right": null,
            "top": null,
            "visibility": null,
            "width": null
          }
        },
        "de8c7accfaf54a14bc03ff627dbe49c9": {
          "model_module": "@jupyter-widgets/controls",
          "model_name": "DescriptionStyleModel",
          "model_module_version": "1.5.0",
          "state": {
            "_model_module": "@jupyter-widgets/controls",
            "_model_module_version": "1.5.0",
            "_model_name": "DescriptionStyleModel",
            "_view_count": null,
            "_view_module": "@jupyter-widgets/base",
            "_view_module_version": "1.2.0",
            "_view_name": "StyleView",
            "description_width": ""
          }
        },
        "79cb5a4ba7cd4fcbb5b4750957da45a9": {
          "model_module": "@jupyter-widgets/controls",
          "model_name": "HBoxModel",
          "model_module_version": "1.5.0",
          "state": {
            "_dom_classes": [],
            "_model_module": "@jupyter-widgets/controls",
            "_model_module_version": "1.5.0",
            "_model_name": "HBoxModel",
            "_view_count": null,
            "_view_module": "@jupyter-widgets/controls",
            "_view_module_version": "1.5.0",
            "_view_name": "HBoxView",
            "box_style": "",
            "children": [
              "IPY_MODEL_762692f560694fb5926143d966f3afd2",
              "IPY_MODEL_ac48870832424026977ded8ea24302c6",
              "IPY_MODEL_f7c057b5cdb94de3abcfe9736a132da3"
            ],
            "layout": "IPY_MODEL_0545f435a37346f8af37c25c969070c1"
          }
        },
        "762692f560694fb5926143d966f3afd2": {
          "model_module": "@jupyter-widgets/controls",
          "model_name": "HTMLModel",
          "model_module_version": "1.5.0",
          "state": {
            "_dom_classes": [],
            "_model_module": "@jupyter-widgets/controls",
            "_model_module_version": "1.5.0",
            "_model_name": "HTMLModel",
            "_view_count": null,
            "_view_module": "@jupyter-widgets/controls",
            "_view_module_version": "1.5.0",
            "_view_name": "HTMLView",
            "description": "",
            "description_tooltip": null,
            "layout": "IPY_MODEL_3abd3224a23d4144a37455160b0ec6ab",
            "placeholder": "​",
            "style": "IPY_MODEL_aaa1a2049db649c7aa09bce8b3e49b2b",
            "value": "100%"
          }
        },
        "ac48870832424026977ded8ea24302c6": {
          "model_module": "@jupyter-widgets/controls",
          "model_name": "FloatProgressModel",
          "model_module_version": "1.5.0",
          "state": {
            "_dom_classes": [],
            "_model_module": "@jupyter-widgets/controls",
            "_model_module_version": "1.5.0",
            "_model_name": "FloatProgressModel",
            "_view_count": null,
            "_view_module": "@jupyter-widgets/controls",
            "_view_module_version": "1.5.0",
            "_view_name": "ProgressView",
            "bar_style": "success",
            "description": "",
            "description_tooltip": null,
            "layout": "IPY_MODEL_ecd61b03361f4a4bb48c0f054d117bd9",
            "max": 5148,
            "min": 0,
            "orientation": "horizontal",
            "style": "IPY_MODEL_d24d09ede7de4c9fbd5773c6a23716c9",
            "value": 5148
          }
        },
        "f7c057b5cdb94de3abcfe9736a132da3": {
          "model_module": "@jupyter-widgets/controls",
          "model_name": "HTMLModel",
          "model_module_version": "1.5.0",
          "state": {
            "_dom_classes": [],
            "_model_module": "@jupyter-widgets/controls",
            "_model_module_version": "1.5.0",
            "_model_name": "HTMLModel",
            "_view_count": null,
            "_view_module": "@jupyter-widgets/controls",
            "_view_module_version": "1.5.0",
            "_view_name": "HTMLView",
            "description": "",
            "description_tooltip": null,
            "layout": "IPY_MODEL_ae911f08fcda40c8b7dd127bacd93d0c",
            "placeholder": "​",
            "style": "IPY_MODEL_fe57680ebe7c4f61a819b71aa1200869",
            "value": " 5148/5148 [00:00&lt;00:00, 170625.19it/s]"
          }
        },
        "0545f435a37346f8af37c25c969070c1": {
          "model_module": "@jupyter-widgets/base",
          "model_name": "LayoutModel",
          "model_module_version": "1.2.0",
          "state": {
            "_model_module": "@jupyter-widgets/base",
            "_model_module_version": "1.2.0",
            "_model_name": "LayoutModel",
            "_view_count": null,
            "_view_module": "@jupyter-widgets/base",
            "_view_module_version": "1.2.0",
            "_view_name": "LayoutView",
            "align_content": null,
            "align_items": null,
            "align_self": null,
            "border": null,
            "bottom": null,
            "display": null,
            "flex": null,
            "flex_flow": null,
            "grid_area": null,
            "grid_auto_columns": null,
            "grid_auto_flow": null,
            "grid_auto_rows": null,
            "grid_column": null,
            "grid_gap": null,
            "grid_row": null,
            "grid_template_areas": null,
            "grid_template_columns": null,
            "grid_template_rows": null,
            "height": null,
            "justify_content": null,
            "justify_items": null,
            "left": null,
            "margin": null,
            "max_height": null,
            "max_width": null,
            "min_height": null,
            "min_width": null,
            "object_fit": null,
            "object_position": null,
            "order": null,
            "overflow": null,
            "overflow_x": null,
            "overflow_y": null,
            "padding": null,
            "right": null,
            "top": null,
            "visibility": null,
            "width": null
          }
        },
        "3abd3224a23d4144a37455160b0ec6ab": {
          "model_module": "@jupyter-widgets/base",
          "model_name": "LayoutModel",
          "model_module_version": "1.2.0",
          "state": {
            "_model_module": "@jupyter-widgets/base",
            "_model_module_version": "1.2.0",
            "_model_name": "LayoutModel",
            "_view_count": null,
            "_view_module": "@jupyter-widgets/base",
            "_view_module_version": "1.2.0",
            "_view_name": "LayoutView",
            "align_content": null,
            "align_items": null,
            "align_self": null,
            "border": null,
            "bottom": null,
            "display": null,
            "flex": null,
            "flex_flow": null,
            "grid_area": null,
            "grid_auto_columns": null,
            "grid_auto_flow": null,
            "grid_auto_rows": null,
            "grid_column": null,
            "grid_gap": null,
            "grid_row": null,
            "grid_template_areas": null,
            "grid_template_columns": null,
            "grid_template_rows": null,
            "height": null,
            "justify_content": null,
            "justify_items": null,
            "left": null,
            "margin": null,
            "max_height": null,
            "max_width": null,
            "min_height": null,
            "min_width": null,
            "object_fit": null,
            "object_position": null,
            "order": null,
            "overflow": null,
            "overflow_x": null,
            "overflow_y": null,
            "padding": null,
            "right": null,
            "top": null,
            "visibility": null,
            "width": null
          }
        },
        "aaa1a2049db649c7aa09bce8b3e49b2b": {
          "model_module": "@jupyter-widgets/controls",
          "model_name": "DescriptionStyleModel",
          "model_module_version": "1.5.0",
          "state": {
            "_model_module": "@jupyter-widgets/controls",
            "_model_module_version": "1.5.0",
            "_model_name": "DescriptionStyleModel",
            "_view_count": null,
            "_view_module": "@jupyter-widgets/base",
            "_view_module_version": "1.2.0",
            "_view_name": "StyleView",
            "description_width": ""
          }
        },
        "ecd61b03361f4a4bb48c0f054d117bd9": {
          "model_module": "@jupyter-widgets/base",
          "model_name": "LayoutModel",
          "model_module_version": "1.2.0",
          "state": {
            "_model_module": "@jupyter-widgets/base",
            "_model_module_version": "1.2.0",
            "_model_name": "LayoutModel",
            "_view_count": null,
            "_view_module": "@jupyter-widgets/base",
            "_view_module_version": "1.2.0",
            "_view_name": "LayoutView",
            "align_content": null,
            "align_items": null,
            "align_self": null,
            "border": null,
            "bottom": null,
            "display": null,
            "flex": null,
            "flex_flow": null,
            "grid_area": null,
            "grid_auto_columns": null,
            "grid_auto_flow": null,
            "grid_auto_rows": null,
            "grid_column": null,
            "grid_gap": null,
            "grid_row": null,
            "grid_template_areas": null,
            "grid_template_columns": null,
            "grid_template_rows": null,
            "height": null,
            "justify_content": null,
            "justify_items": null,
            "left": null,
            "margin": null,
            "max_height": null,
            "max_width": null,
            "min_height": null,
            "min_width": null,
            "object_fit": null,
            "object_position": null,
            "order": null,
            "overflow": null,
            "overflow_x": null,
            "overflow_y": null,
            "padding": null,
            "right": null,
            "top": null,
            "visibility": null,
            "width": null
          }
        },
        "d24d09ede7de4c9fbd5773c6a23716c9": {
          "model_module": "@jupyter-widgets/controls",
          "model_name": "ProgressStyleModel",
          "model_module_version": "1.5.0",
          "state": {
            "_model_module": "@jupyter-widgets/controls",
            "_model_module_version": "1.5.0",
            "_model_name": "ProgressStyleModel",
            "_view_count": null,
            "_view_module": "@jupyter-widgets/base",
            "_view_module_version": "1.2.0",
            "_view_name": "StyleView",
            "bar_color": null,
            "description_width": ""
          }
        },
        "ae911f08fcda40c8b7dd127bacd93d0c": {
          "model_module": "@jupyter-widgets/base",
          "model_name": "LayoutModel",
          "model_module_version": "1.2.0",
          "state": {
            "_model_module": "@jupyter-widgets/base",
            "_model_module_version": "1.2.0",
            "_model_name": "LayoutModel",
            "_view_count": null,
            "_view_module": "@jupyter-widgets/base",
            "_view_module_version": "1.2.0",
            "_view_name": "LayoutView",
            "align_content": null,
            "align_items": null,
            "align_self": null,
            "border": null,
            "bottom": null,
            "display": null,
            "flex": null,
            "flex_flow": null,
            "grid_area": null,
            "grid_auto_columns": null,
            "grid_auto_flow": null,
            "grid_auto_rows": null,
            "grid_column": null,
            "grid_gap": null,
            "grid_row": null,
            "grid_template_areas": null,
            "grid_template_columns": null,
            "grid_template_rows": null,
            "height": null,
            "justify_content": null,
            "justify_items": null,
            "left": null,
            "margin": null,
            "max_height": null,
            "max_width": null,
            "min_height": null,
            "min_width": null,
            "object_fit": null,
            "object_position": null,
            "order": null,
            "overflow": null,
            "overflow_x": null,
            "overflow_y": null,
            "padding": null,
            "right": null,
            "top": null,
            "visibility": null,
            "width": null
          }
        },
        "fe57680ebe7c4f61a819b71aa1200869": {
          "model_module": "@jupyter-widgets/controls",
          "model_name": "DescriptionStyleModel",
          "model_module_version": "1.5.0",
          "state": {
            "_model_module": "@jupyter-widgets/controls",
            "_model_module_version": "1.5.0",
            "_model_name": "DescriptionStyleModel",
            "_view_count": null,
            "_view_module": "@jupyter-widgets/base",
            "_view_module_version": "1.2.0",
            "_view_name": "StyleView",
            "description_width": ""
          }
        }
      }
    }
  },
  "cells": [
    {
      "cell_type": "markdown",
      "source": [
        "# Nombre: Felipe Morales"
      ],
      "metadata": {
        "id": "8lZiDd-2kX8T"
      }
    },
    {
      "cell_type": "markdown",
      "source": [
        "En esta tarea vas a experimentar con diferentes funciones de activación y su rol en el aprendizaje de redes neuronales. Lo primero que haremos es importar los paquetes importantes para nuestro notebook e inicializar el gpu. Asegúrate que tu notebook se ejecuta sobre un GPU. Si es así, al ejecutar la siguiente celda debería salirte el mensaje \"cuda\"."
      ],
      "metadata": {
        "id": "tRr5F6psiVWt"
      }
    },
    {
      "cell_type": "code",
      "execution_count": null,
      "metadata": {
        "id": "KxMvD4abKQ9f",
        "colab": {
          "base_uri": "https://localhost:8080/"
        },
        "outputId": "d9a8df0a-93b3-4cf4-f298-508f8cda1f7e"
      },
      "outputs": [
        {
          "output_type": "stream",
          "name": "stdout",
          "text": [
            "cuda\n"
          ]
        }
      ],
      "source": [
        "import torch\n",
        "import torch.nn as nn\n",
        "import torchvision\n",
        "import torchvision.transforms as transforms\n",
        "import time\n",
        "import numpy as np\n",
        "import random\n",
        "\n",
        "device = torch.device('cuda' if torch.cuda.is_available() else 'cpu')\n",
        "print(device)"
      ]
    },
    {
      "cell_type": "markdown",
      "source": [
        "A continuación hay un conjunto de funciones que puedes usar para hacer tus experimentos. Los detalles de cada función están como comentario antes del código de la función."
      ],
      "metadata": {
        "id": "LoKash4ojgJo"
      }
    },
    {
      "cell_type": "code",
      "source": [
        "#Esta función permite inicializar todas las semillas de números pseudoaleatorios.\n",
        "# Puedes usar esta función para resetear los generadores de números aleatorios\n",
        "def iniciar_semillas():\n",
        "  SEED = 1234\n",
        "\n",
        "  random.seed(SEED)\n",
        "  np.random.seed(SEED)\n",
        "  torch.manual_seed(SEED)\n",
        "  torch.cuda.manual_seed(SEED)\n",
        "  torch.backends.cudnn.deterministic = True\n",
        "\n",
        "#Función para computar el accuracy. Se asume que predicciones y etiquetas son tensores en el GPU\n",
        "def calculate_accuracy(y_pred, y):\n",
        "  top_pred = y_pred.argmax(1, keepdim=True)\n",
        "  correct = top_pred.eq(y.view_as(top_pred)).sum()\n",
        "  acc = correct.float()/y.shape[0]\n",
        "  return acc\n",
        "\n",
        "#Función para entrenar una época de un modelo. Recibe como parámetros\n",
        "#     -model: una red neuronal\n",
        "#     -iterator: un iterador de la data a usar para el entrenamiento (generalmente creado con un DataLoader)\n",
        "#     -optimizer: el optimizador para el entrenamiento\n",
        "#     -criterion: la función de loss\n",
        "#     -device: dispositivo a usar para el entrenamiento\n",
        "#\n",
        "#Devuelve el loss promedio y el accuracy promedio de la época (promedio de todos los batches)\n",
        "def train_one_epoch(model, iterator, optimizer, criterion, device):\n",
        "  epoch_loss = 0\n",
        "  epoch_acc = 0\n",
        "\n",
        "  #We have to set the neural network in training mode. This is because during\n",
        "  #training, we need gradients and complementary data to ease the computation  \n",
        "  model.train()\n",
        "  \n",
        "  #Training loop\n",
        "  for (x, y) in iterator:\n",
        "    x = x.to(device) #Data\n",
        "    y = y.long().to(device) #Labels\n",
        "        \n",
        "    optimizer.zero_grad() #Clean gradients\n",
        "             \n",
        "    y_pred = model(x) #Feed the network with data\n",
        "        \n",
        "    loss = criterion(y_pred, y) #Compute the loss\n",
        "       \n",
        "    acc = calculate_accuracy(y_pred, y) #Compute the accuracy\n",
        "        \n",
        "    loss.backward() #Compute gradients\n",
        "        \n",
        "    optimizer.step() #Apply update rules\n",
        "        \n",
        "    epoch_loss += loss.item()\n",
        "    epoch_acc += acc.item()\n",
        "        \n",
        "  return epoch_loss / len(iterator), epoch_acc / len(iterator)\n",
        "\n",
        "#Función que evalúa una red neuronal con un conjunto de datos de prueba. Recibe como parámetros\n",
        "#     -model: una red neuronal\n",
        "#     -iterator: un iterador de la data a usar para el entrenamiento (generalmente creado con un DataLoader)\n",
        "#     -criterion: la función de loss\n",
        "#     -device: dispositivo a usar para el entrenamiento\n",
        "#Devuelve el loss promedio y el accuracy promedio de la época (promedio de todos los batches)\n",
        "def evaluate(model, iterator, criterion, device):\n",
        "  epoch_loss = 0\n",
        "  epoch_acc = 0\n",
        "\n",
        "  #We put the network in testing mode\n",
        "  #In this mode, Pytorch doesn't use features only reserved for \n",
        "  #training (dropout for instance)    \n",
        "  model.eval()\n",
        "    \n",
        "  with torch.no_grad(): #disable the autograd engine (save computation and memory)\n",
        "        \n",
        "    for (x, y) in iterator:\n",
        "      x = x.to(device)\n",
        "      y = y.long().to(device)\n",
        "\n",
        "      y_pred= model(x)\n",
        "\n",
        "      loss = criterion(y_pred, y)\n",
        "\n",
        "      acc = calculate_accuracy(y_pred, y)\n",
        "\n",
        "      epoch_loss += loss.item()\n",
        "      epoch_acc += acc.item()\n",
        "  return epoch_loss / len(iterator), epoch_acc / len(iterator)\n",
        "\n",
        "#Calcula el tiempo transcurrido entre dos timestamps\n",
        "def epoch_time(start_time, end_time):\n",
        "    elapsed_time = end_time - start_time\n",
        "    elapsed_mins = int(elapsed_time / 60)\n",
        "    elapsed_secs = int(elapsed_time - (elapsed_mins * 60))\n",
        "    return elapsed_mins, elapsed_secs\n",
        "\n",
        "#Esta función realiza el entrenamiento completo de una red. Recibe como parámetros:\n",
        "#     -network: la red neuronal\n",
        "#     -optimizer: el optimizador para entrenamiento\n",
        "#     -train_loader: el dataloader de datos de entrenamiento\n",
        "#     -tes_loader: el dataloader de datos de prueba\n",
        "#     -name: nombre a usar para guardar en disco la red con el mejor accuracy\n",
        "\n",
        "def train_complete(network, optimizer, train_loader, test_loader, name):\n",
        "  \n",
        "  #Se envían la red y la función de loss al GPU\n",
        "  network = network.to(device)\n",
        "  criterion = nn.CrossEntropyLoss()\n",
        "  criterion = criterion.to(device)\n",
        "\n",
        "  #Fijar el entrenamiento en 20 épocas siempre\n",
        "  EPOCHS = 20\n",
        "\n",
        "  best_valid_acc = float('-inf')\n",
        "\n",
        "  train_loss_list = [] #\n",
        "  valid_loss_list = [] #\n",
        "\n",
        "  for epoch in range(EPOCHS):\n",
        "    \n",
        "    start_time = time.time()\n",
        "\n",
        "    #Train + validation cycles  \n",
        "    train_loss, train_acc = train_one_epoch(network, train_loader, optimizer, criterion, device)\n",
        "    valid_loss, valid_acc = evaluate(network, test_loader, criterion, device)\n",
        "    \n",
        "    #Si encontramos un modelo con accuracy de validación mayor, lo guardamos\n",
        "    if valid_acc > best_valid_acc:\n",
        "     best_valid_acc = valid_acc\n",
        "     torch.save(network.state_dict(), f'{name}.pt')\n",
        "    \n",
        "    end_time = time.time()\n",
        "\n",
        "    epoch_mins, epoch_secs = epoch_time(start_time, end_time)\n",
        "\n",
        "    train_loss_list.append(float(train_loss)) #\n",
        "    valid_loss_list.append(float(valid_loss)) #\n",
        "    \n",
        "    print(f'Epoch: {epoch+1:02} | Epoch Time: {epoch_mins}m {epoch_secs}s')\n",
        "    print(f'\\tTrain Loss: {train_loss:.3f} | Train Acc: {train_acc*100:.2f}%')\n",
        "    print(f'\\t Val. Loss: {valid_loss:.3f} |  Val. Acc: {valid_acc*100:.2f}%')\n",
        "  \n",
        "  #Cuando se termina el entrenamiento, cargamos el mejor modelo guardado y calculamos el accuracy de prueba\n",
        "  network.load_state_dict(torch.load(f'{name}.pt'))\n",
        "\n",
        "  test_loss , test_acc = evaluate(network, test_loader, criterion, device)\n",
        "  print(f'Test Loss: {test_loss:.3f} | Mejor test acc: {test_acc*100:.2f}%')\n",
        "  return train_loss_list, valid_loss_list #"
      ],
      "metadata": {
        "id": "2a1RaYXIhr7D"
      },
      "execution_count": null,
      "outputs": []
    },
    {
      "cell_type": "markdown",
      "source": [
        "Para nuestros experimentos usaremos el dataset FashionMNIST, que consta de imágenes en escala de grises de 28x28 píxeles que representan prendas de ropa clasificadas en 10 clases. Inicializamos los hiperparámetros y cargamos los conjuntos de datos de entrenamiento y prueba. También se crean los dataloaders correspondientes."
      ],
      "metadata": {
        "id": "1-JXcFInnGWa"
      }
    },
    {
      "cell_type": "code",
      "source": [
        "# Hyper-parameters \n",
        "input_size = 784\n",
        "num_classes = 10\n",
        "batch_size_train = 1000\n",
        "batch_size_test = 1000\n",
        "momentum = 0.9\n",
        "log_interval = 100\n",
        "learning_rate=0.01\n",
        "\n",
        "# MNIST dataset \n",
        "train_dataset = torchvision.datasets.FashionMNIST(root='data', \n",
        "                    train=True, \n",
        "                    transform=transforms.Compose([transforms.ToTensor(), transforms.Normalize((0.5,),(0.5,))]),  \n",
        "                    download=True)\n",
        "\n",
        "test_dataset = torchvision.datasets.FashionMNIST(root='data', \n",
        "                                          train=False, \n",
        "                                          transform=transforms.Compose([transforms.ToTensor(), transforms.Normalize((0.5,),(0.5,))]))\n",
        "\n",
        "\n",
        "# Data loader\n",
        "train_loader = torch.utils.data.DataLoader(dataset=train_dataset, \n",
        "                                           batch_size=batch_size_train, \n",
        "                                           shuffle=True)\n",
        "\n",
        "test_loader = torch.utils.data.DataLoader(dataset=test_dataset, \n",
        "                                          batch_size=batch_size_test, \n",
        "                                          shuffle=False)\n",
        "\n",
        "class_names = ['T-shirt/top','Trouser','Pullover','Dress','Coat','Sandal','Shirt','Sneaker','Bag','Ankle Boot']\n"
      ],
      "metadata": {
        "id": "5B_nvJxyKYxc",
        "colab": {
          "base_uri": "https://localhost:8080/",
          "height": 423,
          "referenced_widgets": [
            "df1cf62224db4098923813c35db0aa03",
            "ccd336465dae4a809c93f6f20afb6eb2",
            "16b1af17aa0941b3bd8b13bea0a3c82b",
            "554ee46009814eef9da1478310203a42",
            "a791bfd0204e431384818385eadf99b9",
            "222c4258a0ed46039db0360ec6e058b5",
            "f159b799c72b4f9ba90880e09f948771",
            "47eefd64a421482da46e35b46ba597eb",
            "cc7ab1f24ce64933829f948a5ee6a30b",
            "c8c43742b95b4ca1a26826b24d831ca1",
            "59450a1571714a128074eb8ed4fe97da",
            "a182a6214eb948c7b58167121d509903",
            "f7c3c6007ffc4c0f9702bd98ab4f3865",
            "eb0d1fd722e64d119e77321237b768e6",
            "07eee3afa680435293a3bbdf9fc89304",
            "b40eefa17c5d414e9a4842b8a83859b9",
            "a7dbd5241f664556a737aab17edb84d1",
            "c78827bd63f742578b41fc348d51531b",
            "9f4fdbf520254fc2bd62c67e4c12c055",
            "cae3a8a57f8e49f39d669ced9cf73de6",
            "ae657852d1e946e4b74ff6a7dae090b2",
            "e5686246db87489396cf7811b9b81934",
            "47dd8190f1e1421ea630605cee619471",
            "7f823d4316e5490f8b1d0d596291022b",
            "6257afbb2ddb4f8e92f1e2120dfb5517",
            "bf3a0bdae55243c69aa2294fde8876a8",
            "92326a2e9e5a42af99e48c398b6714bc",
            "09674af237394b2aae71e01c70971c49",
            "5ba308abd6544e8aa36a16e3654883b2",
            "e719611a09a147bdb7918397007dfba0",
            "ec86421bd8f540ca9da873545cdf15fa",
            "3f67eedc9d74408591cc2ba02cabbab6",
            "de8c7accfaf54a14bc03ff627dbe49c9",
            "79cb5a4ba7cd4fcbb5b4750957da45a9",
            "762692f560694fb5926143d966f3afd2",
            "ac48870832424026977ded8ea24302c6",
            "f7c057b5cdb94de3abcfe9736a132da3",
            "0545f435a37346f8af37c25c969070c1",
            "3abd3224a23d4144a37455160b0ec6ab",
            "aaa1a2049db649c7aa09bce8b3e49b2b",
            "ecd61b03361f4a4bb48c0f054d117bd9",
            "d24d09ede7de4c9fbd5773c6a23716c9",
            "ae911f08fcda40c8b7dd127bacd93d0c",
            "fe57680ebe7c4f61a819b71aa1200869"
          ]
        },
        "outputId": "b67d8e7f-474b-4b33-df1b-eb3ab7c7ba02"
      },
      "execution_count": null,
      "outputs": [
        {
          "output_type": "stream",
          "name": "stdout",
          "text": [
            "Downloading http://fashion-mnist.s3-website.eu-central-1.amazonaws.com/train-images-idx3-ubyte.gz\n",
            "Downloading http://fashion-mnist.s3-website.eu-central-1.amazonaws.com/train-images-idx3-ubyte.gz to data/FashionMNIST/raw/train-images-idx3-ubyte.gz\n"
          ]
        },
        {
          "output_type": "display_data",
          "data": {
            "text/plain": [
              "  0%|          | 0/26421880 [00:00<?, ?it/s]"
            ],
            "application/vnd.jupyter.widget-view+json": {
              "version_major": 2,
              "version_minor": 0,
              "model_id": "df1cf62224db4098923813c35db0aa03"
            }
          },
          "metadata": {}
        },
        {
          "output_type": "stream",
          "name": "stdout",
          "text": [
            "Extracting data/FashionMNIST/raw/train-images-idx3-ubyte.gz to data/FashionMNIST/raw\n",
            "\n",
            "Downloading http://fashion-mnist.s3-website.eu-central-1.amazonaws.com/train-labels-idx1-ubyte.gz\n",
            "Downloading http://fashion-mnist.s3-website.eu-central-1.amazonaws.com/train-labels-idx1-ubyte.gz to data/FashionMNIST/raw/train-labels-idx1-ubyte.gz\n"
          ]
        },
        {
          "output_type": "display_data",
          "data": {
            "text/plain": [
              "  0%|          | 0/29515 [00:00<?, ?it/s]"
            ],
            "application/vnd.jupyter.widget-view+json": {
              "version_major": 2,
              "version_minor": 0,
              "model_id": "a182a6214eb948c7b58167121d509903"
            }
          },
          "metadata": {}
        },
        {
          "output_type": "stream",
          "name": "stdout",
          "text": [
            "Extracting data/FashionMNIST/raw/train-labels-idx1-ubyte.gz to data/FashionMNIST/raw\n",
            "\n",
            "Downloading http://fashion-mnist.s3-website.eu-central-1.amazonaws.com/t10k-images-idx3-ubyte.gz\n",
            "Downloading http://fashion-mnist.s3-website.eu-central-1.amazonaws.com/t10k-images-idx3-ubyte.gz to data/FashionMNIST/raw/t10k-images-idx3-ubyte.gz\n"
          ]
        },
        {
          "output_type": "display_data",
          "data": {
            "text/plain": [
              "  0%|          | 0/4422102 [00:00<?, ?it/s]"
            ],
            "application/vnd.jupyter.widget-view+json": {
              "version_major": 2,
              "version_minor": 0,
              "model_id": "47dd8190f1e1421ea630605cee619471"
            }
          },
          "metadata": {}
        },
        {
          "output_type": "stream",
          "name": "stdout",
          "text": [
            "Extracting data/FashionMNIST/raw/t10k-images-idx3-ubyte.gz to data/FashionMNIST/raw\n",
            "\n",
            "Downloading http://fashion-mnist.s3-website.eu-central-1.amazonaws.com/t10k-labels-idx1-ubyte.gz\n",
            "Downloading http://fashion-mnist.s3-website.eu-central-1.amazonaws.com/t10k-labels-idx1-ubyte.gz to data/FashionMNIST/raw/t10k-labels-idx1-ubyte.gz\n"
          ]
        },
        {
          "output_type": "display_data",
          "data": {
            "text/plain": [
              "  0%|          | 0/5148 [00:00<?, ?it/s]"
            ],
            "application/vnd.jupyter.widget-view+json": {
              "version_major": 2,
              "version_minor": 0,
              "model_id": "79cb5a4ba7cd4fcbb5b4750957da45a9"
            }
          },
          "metadata": {}
        },
        {
          "output_type": "stream",
          "name": "stdout",
          "text": [
            "Extracting data/FashionMNIST/raw/t10k-labels-idx1-ubyte.gz to data/FashionMNIST/raw\n",
            "\n"
          ]
        }
      ]
    },
    {
      "cell_type": "markdown",
      "source": [
        "Inspeccionamos algunas muestras del conjunto de datos de prueba"
      ],
      "metadata": {
        "id": "rI2b6oomn7bi"
      }
    },
    {
      "cell_type": "code",
      "source": [
        "examples = enumerate(test_loader) #Crea un iterador sobre la lista de batches\n",
        "\n",
        "batchId, (exampleData, exampleTargets) = next(examples) #Obtenemos el siguiente batch\n",
        "print('Numero de batch: {}'.format(batchId))\n",
        "print(exampleData.shape)\n",
        "print(exampleTargets.shape)\n",
        "\n",
        "import matplotlib.pyplot as plt\n",
        "\n",
        "#Mostramos los primeros 6 elementos del batch con su etiqueta\n",
        "plt.figure()\n",
        "for i in range(16):\n",
        "  plt.subplot(4, 4, i+1)\n",
        "  plt.tight_layout()\n",
        "  plt.imshow(exampleData[i][0], cmap='gray', interpolation='none')\n",
        "  plt.title(class_names[exampleTargets[i]])\n",
        "  plt.xticks([])\n",
        "  plt.yticks([])"
      ],
      "metadata": {
        "colab": {
          "base_uri": "https://localhost:8080/",
          "height": 336
        },
        "id": "qHAkMDyhcuCw",
        "outputId": "50c78c5d-e0b2-4880-cb2a-a74796daaa40"
      },
      "execution_count": null,
      "outputs": [
        {
          "output_type": "stream",
          "name": "stdout",
          "text": [
            "Numero de batch: 0\n",
            "torch.Size([1000, 1, 28, 28])\n",
            "torch.Size([1000])\n"
          ]
        },
        {
          "output_type": "display_data",
          "data": {
            "text/plain": [
              "<Figure size 432x288 with 16 Axes>"
            ],
            "image/png": "[encoded data removed]"
          },
          "metadata": {}
        }
      ]
    },
    {
      "cell_type": "markdown",
      "source": [
        "# Parte 1 - Creación de red neuronal\n",
        "Crea una arquitectura de red neuronal (MLP - multilayer perceptron) que reciba datos de 784 dimensiones (recuerda que las imágenes del experimento son de 28x28 = 784 píxeles) y tenga 10 neuronas de salida. Para esta primera red usa la función sigmoide como función de activación en todas las capas ocultas y la función softmax en la capa de salida (recuerda que si usas nn.CrossEntropyLoss, no necesitas aplicar ninguna función adicional a la última capa de la red)."
      ],
      "metadata": {
        "id": "atARKwPWoPll"
      }
    },
    {
      "cell_type": "code",
      "source": [
        "#Creamos la red neuronal\n",
        "import torch.nn as nn\n",
        "import torch.nn.functional as F\n",
        "import torch.optim as optim\n",
        "\n",
        "class NetSigmoid(nn.Module):\n",
        "  def __init__(self):\n",
        "    super(NetSigmoid, self).__init__()\n",
        "\n",
        "    # Modelo 1\n",
        "    self.fc1 = nn.Linear(784, 1024)\n",
        "    self.fc2 = nn.Linear(1024, 512)\n",
        "    self.fc3 = nn.Linear(512, 64)\n",
        "    self.fc4 = nn.Linear(64, 10)\n",
        "\n",
        "    # Modelo 2\n",
        "    #self.fc1 = nn.Linear(784, 5)\n",
        "    #self.fc2 = nn.Linear(5, 10)\n",
        "    \n",
        "  def forward(self, x):\n",
        "    batch_size = x.shape[0]\n",
        "    x = x.view(batch_size, -1)\n",
        "\n",
        "    # Modelo 1\n",
        "    h_1 = F.sigmoid(self.fc1(x))\n",
        "    h_2 = F.sigmoid(self.fc2(h_1))\n",
        "    h_3 = F.sigmoid(self.fc3(h_2))\n",
        "    y_pred = self.fc4(h_3)\n",
        "\n",
        "    # Modelo 2\n",
        "    #h_1 = F.sigmoid(self.fc1(x))\n",
        "    #y_pred = self.fc2(h_1)\n",
        "    return y_pred\n"
      ],
      "metadata": {
        "id": "T4dAsou1c3Tj"
      },
      "execution_count": null,
      "outputs": []
    },
    {
      "cell_type": "markdown",
      "source": [
        "Para ejecutar el entrenamiento de tu primer modelo, ejecuta la siguiente celda y debería reportarte el accuracy de prueba de este primer experimento. Cuánto obtienes de accuracy de test?"
      ],
      "metadata": {
        "id": "nHTJYQ25p9C9"
      }
    },
    {
      "cell_type": "code",
      "source": [
        "iniciar_semillas() # Se inicializan las semillas\n",
        "network = NetSigmoid() # Creas la red\n",
        "optimizer = optim.Adam(network.parameters(), lr=learning_rate) #Creas el optimizador\n",
        "sigmoid_train_loss, sigmoid_valid_loss = train_complete(network, optimizer, train_loader, test_loader, 'sigmoid') #Entrenas la red. IMPORTANTE: el número de épocas siempre debe ser el mismo (internamente son 20 épocas)"
      ],
      "metadata": {
        "id": "bN3WjmQ8eJd4",
        "colab": {
          "base_uri": "https://localhost:8080/"
        },
        "outputId": "e8e39937-8782-46ac-8bcd-6d1aad22e85b"
      },
      "execution_count": null,
      "outputs": [
        {
          "output_type": "stream",
          "name": "stderr",
          "text": [
            "/usr/local/lib/python3.7/dist-packages/torch/nn/functional.py:1960: UserWarning: nn.functional.sigmoid is deprecated. Use torch.sigmoid instead.\n",
            "  warnings.warn(\"nn.functional.sigmoid is deprecated. Use torch.sigmoid instead.\")\n"
          ]
        },
        {
          "output_type": "stream",
          "name": "stdout",
          "text": [
            "Epoch: 01 | Epoch Time: 0m 12s\n",
            "\tTrain Loss: 1.659 | Train Acc: 33.92%\n",
            "\t Val. Loss: 1.073 |  Val. Acc: 55.89%\n",
            "Epoch: 02 | Epoch Time: 0m 10s\n",
            "\tTrain Loss: 0.829 | Train Acc: 66.46%\n",
            "\t Val. Loss: 0.678 |  Val. Acc: 75.45%\n",
            "Epoch: 03 | Epoch Time: 0m 9s\n",
            "\tTrain Loss: 0.573 | Train Acc: 79.06%\n",
            "\t Val. Loss: 0.514 |  Val. Acc: 81.08%\n",
            "Epoch: 04 | Epoch Time: 0m 9s\n",
            "\tTrain Loss: 0.460 | Train Acc: 83.72%\n",
            "\t Val. Loss: 0.480 |  Val. Acc: 83.23%\n",
            "Epoch: 05 | Epoch Time: 0m 9s\n",
            "\tTrain Loss: 0.421 | Train Acc: 85.35%\n",
            "\t Val. Loss: 0.452 |  Val. Acc: 84.42%\n",
            "Epoch: 06 | Epoch Time: 0m 10s\n",
            "\tTrain Loss: 0.395 | Train Acc: 86.16%\n",
            "\t Val. Loss: 0.418 |  Val. Acc: 85.53%\n",
            "Epoch: 07 | Epoch Time: 0m 9s\n",
            "\tTrain Loss: 0.369 | Train Acc: 86.88%\n",
            "\t Val. Loss: 0.412 |  Val. Acc: 85.35%\n",
            "Epoch: 08 | Epoch Time: 0m 9s\n",
            "\tTrain Loss: 0.362 | Train Acc: 87.25%\n",
            "\t Val. Loss: 0.406 |  Val. Acc: 86.04%\n",
            "Epoch: 09 | Epoch Time: 0m 10s\n",
            "\tTrain Loss: 0.351 | Train Acc: 87.50%\n",
            "\t Val. Loss: 0.399 |  Val. Acc: 85.85%\n",
            "Epoch: 10 | Epoch Time: 0m 9s\n",
            "\tTrain Loss: 0.335 | Train Acc: 88.17%\n",
            "\t Val. Loss: 0.403 |  Val. Acc: 86.04%\n",
            "Epoch: 11 | Epoch Time: 0m 10s\n",
            "\tTrain Loss: 0.330 | Train Acc: 88.15%\n",
            "\t Val. Loss: 0.397 |  Val. Acc: 86.00%\n",
            "Epoch: 12 | Epoch Time: 0m 10s\n",
            "\tTrain Loss: 0.323 | Train Acc: 88.38%\n",
            "\t Val. Loss: 0.404 |  Val. Acc: 85.85%\n",
            "Epoch: 13 | Epoch Time: 0m 9s\n",
            "\tTrain Loss: 0.319 | Train Acc: 88.56%\n",
            "\t Val. Loss: 0.404 |  Val. Acc: 85.63%\n",
            "Epoch: 14 | Epoch Time: 0m 9s\n",
            "\tTrain Loss: 0.304 | Train Acc: 89.16%\n",
            "\t Val. Loss: 0.392 |  Val. Acc: 86.37%\n",
            "Epoch: 15 | Epoch Time: 0m 10s\n",
            "\tTrain Loss: 0.301 | Train Acc: 89.21%\n",
            "\t Val. Loss: 0.384 |  Val. Acc: 86.61%\n",
            "Epoch: 16 | Epoch Time: 0m 10s\n",
            "\tTrain Loss: 0.303 | Train Acc: 89.17%\n",
            "\t Val. Loss: 0.375 |  Val. Acc: 87.08%\n",
            "Epoch: 17 | Epoch Time: 0m 10s\n",
            "\tTrain Loss: 0.297 | Train Acc: 89.42%\n",
            "\t Val. Loss: 0.391 |  Val. Acc: 85.99%\n",
            "Epoch: 18 | Epoch Time: 0m 10s\n",
            "\tTrain Loss: 0.289 | Train Acc: 89.63%\n",
            "\t Val. Loss: 0.386 |  Val. Acc: 86.65%\n",
            "Epoch: 19 | Epoch Time: 0m 10s\n",
            "\tTrain Loss: 0.291 | Train Acc: 89.56%\n",
            "\t Val. Loss: 0.414 |  Val. Acc: 84.77%\n",
            "Epoch: 20 | Epoch Time: 0m 9s\n",
            "\tTrain Loss: 0.285 | Train Acc: 89.70%\n",
            "\t Val. Loss: 0.388 |  Val. Acc: 86.56%\n",
            "Test Loss: 0.375 | Mejor test acc: 87.08%\n"
          ]
        }
      ]
    },
    {
      "cell_type": "code",
      "source": [
        "plt.figure()\n",
        "plt.plot(sigmoid_train_loss, color='b', label='Train Loss')\n",
        "plt.plot(sigmoid_valid_loss, color='r', label='Valid loss')\n",
        "plt.title('Loss function for Sigmoid activation function')\n",
        "plt.xlabel('Epochs')\n",
        "plt.ylabel('Loss')\n",
        "plt.legend()\n",
        "plt.show()"
      ],
      "metadata": {
        "colab": {
          "base_uri": "https://localhost:8080/",
          "height": 295
        },
        "id": "vpOaRHcERFdf",
        "outputId": "f9711ef0-efd6-425e-e762-6939ac71ed06"
      },
      "execution_count": null,
      "outputs": [
        {
          "output_type": "display_data",
          "data": {
            "text/plain": [
              "<Figure size 432x288 with 1 Axes>"
            ],
            "image/png": "[encoded data removed]"
          },
          "metadata": {
            "needs_background": "light"
          }
        }
      ]
    },
    {
      "cell_type": "markdown",
      "source": [
        "## Comentarios\n",
        "\n",
        "La función de activación sigmoide viene dada por $f(x) = \\frac{1}{1+exp(-x)}$. \n",
        "\n",
        "Esta función esta acotada superior e inferiormente. Es diferenciable y $f'(x) = f(x)(1- f(x))$. A partir de $f'(x)$ es posible notar que para $x$ con valores, por ejemplo muy grandes, el gradiente se va a cero por lo que se ve comprometido el proceso de back propagation. Esto se conoce como \"vanishing gradients\".\n",
        "\n",
        "Para los datos que utilizamos, si en algún momento este $x$ corresponde a un valor muy elevado, entonces la red no estaría actualizando sus parámetros y no estaría aprendiendo.\n",
        "\n",
        "Con el modelo 1 se alcanza un test Loss: 0.375 y un mejor test acc: 87.08%\n",
        "\n",
        "Con el modelo 2 se alcanza un test Loss: 0.556 y un Mejor test acc: 82.11%"
      ],
      "metadata": {
        "id": "q7HMOjDwSE13"
      }
    },
    {
      "cell_type": "markdown",
      "source": [
        "# Parte 2\n",
        "En esta parte vas a comparar el accuracy de test de la primera red que creaste (con función de activación sigmoide) y los accuracys obtenidos usando otras funciones de activación. Para lograr esto debes hacer lo siguiente:\n",
        "\n",
        "\n",
        "\n",
        "*   Implementa exactamente la misma arquitectura que tu primera red, pero ahora vas a usar las siguientes funciones de activación: Leaky Relu, Mish, Elu y Silu. Implementa una clase por cada función de activación, en donde la red neuronal use la misma función de activación en las capas ocultas. Asegúrate que la arquitectura es la misma y que lo único que cambia entre las distintas redes es la función de activación de las capas ocultas.\n",
        "*   Entrena cada red usando la función \"train_complete\" usando el mismo optimizador siempre. \n",
        "*   Registra los mejores accuracys de test de cada red neuronal.\n",
        "*   Discute los resultados ontenidos. Puedes tratar de responder a estas preguntas:\n",
        "    * Qué función de activación dio el mejor accuracy de test?\n",
        "    * Porqué crees que, ante las mismas condiciones, hay funciones de activación que funcionan mejor que otras?\n",
        "    * Averigua cómo funcionan cada una de las funciones de activación usadas en la tarea. Es posible hacer algún razonamiento sobre el comportamiento de cada función y que eso permita explicar los resultados de tu tarea?"
      ],
      "metadata": {
        "id": "YQaooDGkhLez"
      }
    },
    {
      "cell_type": "markdown",
      "source": [
        "# Leaky Relu"
      ],
      "metadata": {
        "id": "Rx6ofa2aSpSY"
      }
    },
    {
      "cell_type": "code",
      "source": [
        "#Creamos la red neuronal\n",
        "import torch.nn as nn\n",
        "import torch.nn.functional as F\n",
        "import torch.optim as optim\n",
        "\n",
        "class NetRelu(nn.Module):\n",
        "  def __init__(self):\n",
        "    super(NetRelu, self).__init__()\n",
        "    # Modelo 1\n",
        "    self.fc1 = nn.Linear(784, 1024)\n",
        "    self.fc2 = nn.Linear(1024, 512)\n",
        "    self.fc3 = nn.Linear(512, 64)\n",
        "    self.fc4 = nn.Linear(64, 10)\n",
        "\n",
        "    # Modelo 2\n",
        "    #self.fc1 = nn.Linear(784, 5)\n",
        "    #self.fc2 = nn.Linear(5, 10)\n",
        "    \n",
        "  def forward(self, x):\n",
        "    batch_size = x.shape[0]\n",
        "    x = x.view(batch_size, -1)\n",
        "    m = nn.LeakyReLU(0.1)\n",
        "\n",
        "    # Modelo 1\n",
        "    h_1 = m(self.fc1(x))\n",
        "    h_2 = m(self.fc2(h_1))\n",
        "    h_3 = m(self.fc3(h_2))\n",
        "    y_pred = self.fc4(h_3)\n",
        "\n",
        "    # Modelo 2\n",
        "    #h_1 = m(self.fc1(x))\n",
        "    #y_pred = m(self.fc2(h_1))\n",
        "    return y_pred\n",
        "  "
      ],
      "metadata": {
        "id": "uuCWK2lISlcX"
      },
      "execution_count": null,
      "outputs": []
    },
    {
      "cell_type": "code",
      "source": [
        "iniciar_semillas() # Se inicializan las semillas\n",
        "network = NetRelu() # Creas la red\n",
        "optimizer = optim.Adam(network.parameters(), lr=learning_rate) #Creas el optimizador\n",
        "relu_train_loss, relu_valid_loss = train_complete(network, optimizer, train_loader, test_loader, 'leaky relu') #Entrenas la red. IMPORTANTE: el número de épocas siempre debe ser el mismo (internamente son 20 épocas)"
      ],
      "metadata": {
        "colab": {
          "base_uri": "https://localhost:8080/"
        },
        "id": "l_DBaqgBStZC",
        "outputId": "940ef923-5b71-477c-a4fb-cdc3085bc625"
      },
      "execution_count": null,
      "outputs": [
        {
          "output_type": "stream",
          "name": "stdout",
          "text": [
            "Epoch: 01 | Epoch Time: 0m 11s\n",
            "\tTrain Loss: 1.631 | Train Acc: 61.71%\n",
            "\t Val. Loss: 0.612 |  Val. Acc: 77.71%\n",
            "Epoch: 02 | Epoch Time: 0m 10s\n",
            "\tTrain Loss: 0.494 | Train Acc: 81.76%\n",
            "\t Val. Loss: 0.469 |  Val. Acc: 82.88%\n",
            "Epoch: 03 | Epoch Time: 0m 10s\n",
            "\tTrain Loss: 0.416 | Train Acc: 84.73%\n",
            "\t Val. Loss: 0.444 |  Val. Acc: 84.34%\n",
            "Epoch: 04 | Epoch Time: 0m 9s\n",
            "\tTrain Loss: 0.366 | Train Acc: 86.51%\n",
            "\t Val. Loss: 0.413 |  Val. Acc: 84.60%\n",
            "Epoch: 05 | Epoch Time: 0m 10s\n",
            "\tTrain Loss: 0.348 | Train Acc: 87.33%\n",
            "\t Val. Loss: 0.393 |  Val. Acc: 86.04%\n",
            "Epoch: 06 | Epoch Time: 0m 10s\n",
            "\tTrain Loss: 0.339 | Train Acc: 87.52%\n",
            "\t Val. Loss: 0.394 |  Val. Acc: 86.02%\n",
            "Epoch: 07 | Epoch Time: 0m 9s\n",
            "\tTrain Loss: 0.313 | Train Acc: 88.46%\n",
            "\t Val. Loss: 0.372 |  Val. Acc: 86.69%\n",
            "Epoch: 08 | Epoch Time: 0m 9s\n",
            "\tTrain Loss: 0.301 | Train Acc: 88.78%\n",
            "\t Val. Loss: 0.380 |  Val. Acc: 86.63%\n",
            "Epoch: 09 | Epoch Time: 0m 11s\n",
            "\tTrain Loss: 0.291 | Train Acc: 89.12%\n",
            "\t Val. Loss: 0.366 |  Val. Acc: 86.70%\n",
            "Epoch: 10 | Epoch Time: 0m 9s\n",
            "\tTrain Loss: 0.275 | Train Acc: 89.76%\n",
            "\t Val. Loss: 0.371 |  Val. Acc: 86.77%\n",
            "Epoch: 11 | Epoch Time: 0m 9s\n",
            "\tTrain Loss: 0.269 | Train Acc: 89.93%\n",
            "\t Val. Loss: 0.360 |  Val. Acc: 87.52%\n",
            "Epoch: 12 | Epoch Time: 0m 10s\n",
            "\tTrain Loss: 0.257 | Train Acc: 90.34%\n",
            "\t Val. Loss: 0.358 |  Val. Acc: 87.24%\n",
            "Epoch: 13 | Epoch Time: 0m 10s\n",
            "\tTrain Loss: 0.251 | Train Acc: 90.51%\n",
            "\t Val. Loss: 0.390 |  Val. Acc: 85.97%\n",
            "Epoch: 14 | Epoch Time: 0m 9s\n",
            "\tTrain Loss: 0.239 | Train Acc: 90.98%\n",
            "\t Val. Loss: 0.354 |  Val. Acc: 87.52%\n",
            "Epoch: 15 | Epoch Time: 0m 10s\n",
            "\tTrain Loss: 0.236 | Train Acc: 91.15%\n",
            "\t Val. Loss: 0.350 |  Val. Acc: 87.88%\n",
            "Epoch: 16 | Epoch Time: 0m 9s\n",
            "\tTrain Loss: 0.238 | Train Acc: 90.95%\n",
            "\t Val. Loss: 0.377 |  Val. Acc: 87.22%\n",
            "Epoch: 17 | Epoch Time: 0m 10s\n",
            "\tTrain Loss: 0.221 | Train Acc: 91.71%\n",
            "\t Val. Loss: 0.355 |  Val. Acc: 87.72%\n",
            "Epoch: 18 | Epoch Time: 0m 10s\n",
            "\tTrain Loss: 0.210 | Train Acc: 91.96%\n",
            "\t Val. Loss: 0.331 |  Val. Acc: 88.57%\n",
            "Epoch: 19 | Epoch Time: 0m 10s\n",
            "\tTrain Loss: 0.218 | Train Acc: 91.90%\n",
            "\t Val. Loss: 0.347 |  Val. Acc: 88.24%\n",
            "Epoch: 20 | Epoch Time: 0m 9s\n",
            "\tTrain Loss: 0.217 | Train Acc: 91.87%\n",
            "\t Val. Loss: 0.357 |  Val. Acc: 87.62%\n",
            "Test Loss: 0.331 | Mejor test acc: 88.57%\n"
          ]
        }
      ]
    },
    {
      "cell_type": "code",
      "source": [
        "plt.figure()\n",
        "plt.plot(relu_train_loss, color='b', label='Train Loss')\n",
        "plt.plot(relu_valid_loss, color='r', label='Valid loss')\n",
        "plt.title('Loss function for Leaky ReLU activation function')\n",
        "plt.xlabel('Epochs')\n",
        "plt.ylabel('Loss')\n",
        "plt.legend()\n",
        "plt.show()"
      ],
      "metadata": {
        "colab": {
          "base_uri": "https://localhost:8080/",
          "height": 295
        },
        "id": "q0pDVA88SuTy",
        "outputId": "6376f835-04f3-4f2a-8c93-1a27fc996cd8"
      },
      "execution_count": null,
      "outputs": [
        {
          "output_type": "display_data",
          "data": {
            "text/plain": [
              "<Figure size 432x288 with 1 Axes>"
            ],
            "image/png": "[encoded data removed]"
          },
          "metadata": {
            "needs_background": "light"
          }
        }
      ]
    },
    {
      "cell_type": "markdown",
      "source": [
        "## Comentarios\n",
        "\n",
        "Leaky Rectified Linear Unit es una función de activación que viene dada por $f(x) = x$ para $x > 0$ y $f(x) = α*x$ para $x ≤ 0$. El parámetro α debe ser mayor a cero y suele ser $α = 0.01$.\n",
        "\n",
        "Esta función viene a hacer frente a un problema de la función ReLU para la cual, al momento de calcular los gradientes, ReLU no aprende cuando tenemos muchos valores negativos pues $f'(x)$ es 0 para $x < 0$, es decir, quedan neuronas sin utilizar. Por otra parte, Leaky ReLU se tiene que $f'(x) = α$. Con esto tenemos al menos un valor que permite tener un gradiente. Si la comparamos con la función sigmoide esta obtiene mejores resultados pues presenta una monotonia que permite hacer frente al problema de \"vanishing gradients\". Ahora, para nuestros datos, si $x$ tiene un valor muy elevado entonces es posible tener un gradiente que permita mejorar el proceso de aprendizaje.\n",
        "\n",
        "Con el modelo 1 se alcanza un test Loss: 0.331 y el mejor test acc: 88.57%\n",
        "\n",
        "Con el modelo 2 se alcanza un test Loss: 0.490 y un Mejor test acc: 83.08%"
      ],
      "metadata": {
        "id": "Y_zT-zg6RWiw"
      }
    },
    {
      "cell_type": "markdown",
      "source": [
        "# Mish"
      ],
      "metadata": {
        "id": "OGehgaC3St4Y"
      }
    },
    {
      "cell_type": "code",
      "source": [
        "#Creamos la red neuronal\n",
        "import torch.nn as nn\n",
        "import torch.nn.functional as F\n",
        "import torch.optim as optim\n",
        "\n",
        "class NetMish(nn.Module):\n",
        "  def __init__(self):\n",
        "    super(NetMish, self).__init__()\n",
        "\n",
        "    # Modelo 1\n",
        "    self.fc1 = nn.Linear(784, 1024)\n",
        "    self.fc2 = nn.Linear(1024, 512)\n",
        "    self.fc3 = nn.Linear(512, 64)\n",
        "    self.fc4 = nn.Linear(64, 10)\n",
        "\n",
        "    # Modelo 2\n",
        "    #self.fc1 = nn.Linear(784, 5)\n",
        "    #self.fc2 = nn.Linear(5, 10)\n",
        "    \n",
        "  def forward(self, x):\n",
        "    batch_size = x.shape[0]\n",
        "    x = x.view(batch_size, -1)\n",
        "    m = nn.Mish()\n",
        "\n",
        "    # Modelo 1\n",
        "    h_1 = m(self.fc1(x))\n",
        "    h_2 = m(self.fc2(h_1))\n",
        "    h_3 = m(self.fc3(h_2))\n",
        "    y_pred = self.fc4(h_3)\n",
        "\n",
        "    # Mdelo 2\n",
        "    #h_1 = m(self.fc1(x))\n",
        "    #y_pred = self.fc2(h_1)\n",
        "    return y_pred\n",
        "  "
      ],
      "metadata": {
        "id": "cY6FM6e9S2Hp"
      },
      "execution_count": null,
      "outputs": []
    },
    {
      "cell_type": "code",
      "source": [
        "iniciar_semillas() # Se inicializan las semillas\n",
        "network = NetMish() # Creas la red\n",
        "optimizer = optim.Adam(network.parameters(), lr=learning_rate) #Creas el optimizador\n",
        "mish_train_loss, mish_valid_loss = train_complete(network, optimizer, train_loader, test_loader, 'mish') #Entrenas la red. IMPORTANTE: el número de épocas siempre debe ser el mismo (internamente son 20 épocas)"
      ],
      "metadata": {
        "id": "YiKxFpSoTImc",
        "colab": {
          "base_uri": "https://localhost:8080/"
        },
        "outputId": "4f76e062-0fa6-460c-999f-8dbdb0eb1300"
      },
      "execution_count": null,
      "outputs": [
        {
          "output_type": "stream",
          "name": "stdout",
          "text": [
            "Epoch: 01 | Epoch Time: 0m 10s\n",
            "\tTrain Loss: 1.326 | Train Acc: 64.81%\n",
            "\t Val. Loss: 0.534 |  Val. Acc: 80.39%\n",
            "Epoch: 02 | Epoch Time: 0m 10s\n",
            "\tTrain Loss: 0.426 | Train Acc: 84.48%\n",
            "\t Val. Loss: 0.419 |  Val. Acc: 85.18%\n",
            "Epoch: 03 | Epoch Time: 0m 10s\n",
            "\tTrain Loss: 0.365 | Train Acc: 86.63%\n",
            "\t Val. Loss: 0.404 |  Val. Acc: 86.02%\n",
            "Epoch: 04 | Epoch Time: 0m 9s\n",
            "\tTrain Loss: 0.333 | Train Acc: 87.72%\n",
            "\t Val. Loss: 0.393 |  Val. Acc: 85.62%\n",
            "Epoch: 05 | Epoch Time: 0m 9s\n",
            "\tTrain Loss: 0.305 | Train Acc: 88.82%\n",
            "\t Val. Loss: 0.364 |  Val. Acc: 87.15%\n",
            "Epoch: 06 | Epoch Time: 0m 10s\n",
            "\tTrain Loss: 0.295 | Train Acc: 89.09%\n",
            "\t Val. Loss: 0.369 |  Val. Acc: 87.14%\n",
            "Epoch: 07 | Epoch Time: 0m 9s\n",
            "\tTrain Loss: 0.280 | Train Acc: 89.50%\n",
            "\t Val. Loss: 0.361 |  Val. Acc: 87.45%\n",
            "Epoch: 08 | Epoch Time: 0m 9s\n",
            "\tTrain Loss: 0.273 | Train Acc: 89.93%\n",
            "\t Val. Loss: 0.356 |  Val. Acc: 87.50%\n",
            "Epoch: 09 | Epoch Time: 0m 10s\n",
            "\tTrain Loss: 0.253 | Train Acc: 90.60%\n",
            "\t Val. Loss: 0.360 |  Val. Acc: 87.49%\n",
            "Epoch: 10 | Epoch Time: 0m 9s\n",
            "\tTrain Loss: 0.244 | Train Acc: 90.92%\n",
            "\t Val. Loss: 0.353 |  Val. Acc: 87.79%\n",
            "Epoch: 11 | Epoch Time: 0m 9s\n",
            "\tTrain Loss: 0.237 | Train Acc: 91.08%\n",
            "\t Val. Loss: 0.391 |  Val. Acc: 86.85%\n",
            "Epoch: 12 | Epoch Time: 0m 10s\n",
            "\tTrain Loss: 0.229 | Train Acc: 91.45%\n",
            "\t Val. Loss: 0.368 |  Val. Acc: 88.01%\n",
            "Epoch: 13 | Epoch Time: 0m 9s\n",
            "\tTrain Loss: 0.217 | Train Acc: 91.78%\n",
            "\t Val. Loss: 0.353 |  Val. Acc: 87.70%\n",
            "Epoch: 14 | Epoch Time: 0m 9s\n",
            "\tTrain Loss: 0.210 | Train Acc: 92.10%\n",
            "\t Val. Loss: 0.351 |  Val. Acc: 87.95%\n",
            "Epoch: 15 | Epoch Time: 0m 10s\n",
            "\tTrain Loss: 0.214 | Train Acc: 92.09%\n",
            "\t Val. Loss: 0.363 |  Val. Acc: 87.46%\n",
            "Epoch: 16 | Epoch Time: 0m 10s\n",
            "\tTrain Loss: 0.204 | Train Acc: 92.31%\n",
            "\t Val. Loss: 0.363 |  Val. Acc: 88.34%\n",
            "Epoch: 17 | Epoch Time: 0m 9s\n",
            "\tTrain Loss: 0.192 | Train Acc: 92.81%\n",
            "\t Val. Loss: 0.365 |  Val. Acc: 88.34%\n",
            "Epoch: 18 | Epoch Time: 0m 10s\n",
            "\tTrain Loss: 0.188 | Train Acc: 92.89%\n",
            "\t Val. Loss: 0.388 |  Val. Acc: 87.28%\n",
            "Epoch: 19 | Epoch Time: 0m 10s\n",
            "\tTrain Loss: 0.189 | Train Acc: 92.84%\n",
            "\t Val. Loss: 0.385 |  Val. Acc: 87.89%\n",
            "Epoch: 20 | Epoch Time: 0m 9s\n",
            "\tTrain Loss: 0.181 | Train Acc: 93.24%\n",
            "\t Val. Loss: 0.386 |  Val. Acc: 87.63%\n",
            "Test Loss: 0.365 | Mejor test acc: 88.34%\n"
          ]
        }
      ]
    },
    {
      "cell_type": "code",
      "source": [
        "plt.figure()\n",
        "plt.plot(mish_train_loss, color='b', label='Train Loss')\n",
        "plt.plot(mish_valid_loss, color='r', label='Valid loss')\n",
        "plt.title('Loss function for Mish activation function')\n",
        "plt.xlabel('Epochs')\n",
        "plt.ylabel('Loss')\n",
        "plt.legend()\n",
        "plt.show()"
      ],
      "metadata": {
        "colab": {
          "base_uri": "https://localhost:8080/",
          "height": 295
        },
        "id": "49GF2Xt8TLtQ",
        "outputId": "215338ab-4b54-4e76-9450-e0480ee0aaa2"
      },
      "execution_count": null,
      "outputs": [
        {
          "output_type": "display_data",
          "data": {
            "text/plain": [
              "<Figure size 432x288 with 1 Axes>"
            ],
            "image/png": "[encoded data removed]"
          },
          "metadata": {
            "needs_background": "light"
          }
        }
      ]
    },
    {
      "cell_type": "markdown",
      "source": [
        "## Comentarios\n",
        "\n",
        "Mish es una función de activación que viene definida por $f(x) = x * tanh(softplus(x))$ donde $softplus(x) = ln(1 + exp(x))$.\n",
        "\n",
        "Algunas carateristicas de esta funcion es que está acotada inferiormente como otras funciones de activación como sigmoid, ReLU, ELU y SiLU. Es continuamente diferenciable y es no monotona. Al igual que Leaky ReLU solventa el problema de tener neuronas que no se activen debido a que $f'(x) != 0$ para valores negativos permitiendo tener un mejor proceso de actualización en backward propagation. Sin embargo esta función es costosa computacionalmente.\n",
        "\n",
        "En cuanto a la función sigmoide se tiene el mismo análisis con Leaky ReLU, es decir, Mish obtiene mejores resultados.\n",
        "\n",
        "Con el modelo 1 se alcanza un test Loss: 0.365 y un Mejor test acc: 88.34%\n",
        "\n",
        "Con el modelo 2 se alcanza un test Loss: 0.495 y un Mejor test acc: 83.03%"
      ],
      "metadata": {
        "id": "bpZ5e7gVRfV3"
      }
    },
    {
      "cell_type": "markdown",
      "source": [
        "# ELU"
      ],
      "metadata": {
        "id": "-7pihWGxSwfU"
      }
    },
    {
      "cell_type": "code",
      "source": [
        "#Creamos la red neuronal\n",
        "import torch.nn as nn\n",
        "import torch.nn.functional as F\n",
        "import torch.optim as optim\n",
        "\n",
        "class NetElu(nn.Module):\n",
        "  def __init__(self):\n",
        "    super(NetElu, self).__init__()\n",
        "\n",
        "    # Modelo 1\n",
        "    self.fc1 = nn.Linear(784, 1024)\n",
        "    self.fc2 = nn.Linear(1024, 512)\n",
        "    self.fc3 = nn.Linear(512, 64)\n",
        "    self.fc4 = nn.Linear(64, 10)\n",
        "\n",
        "    # Modelo 2\n",
        "    #self.fc1 = nn.Linear(784, 5)\n",
        "    #self.fc2 = nn.Linear(5, 10)\n",
        "    \n",
        "    \n",
        "  def forward(self, x):\n",
        "    batch_size = x.shape[0]\n",
        "    x = x.view(batch_size, -1)\n",
        "    m = nn.ELU()\n",
        "\n",
        "    # Modelo 1\n",
        "    h_1 = m(self.fc1(x))\n",
        "    h_2 = m(self.fc2(h_1))\n",
        "    h_3 = m(self.fc3(h_2))\n",
        "    y_pred = self.fc4(h_3)\n",
        "\n",
        "    # Modelo 2\n",
        "    #h_1 = m(self.fc1(x))\n",
        "    #y_pred = self.fc2(h_1)\n",
        "    return y_pred\n",
        "  "
      ],
      "metadata": {
        "id": "xOIb8ICtSz0W"
      },
      "execution_count": null,
      "outputs": []
    },
    {
      "cell_type": "code",
      "source": [
        "iniciar_semillas() # Se inicializan las semillas\n",
        "network = NetElu() # Creas la red\n",
        "optimizer = optim.Adam(network.parameters(), lr=learning_rate) #Creas el optimizador\n",
        "elu_train_loss, elu_valid_loss = train_complete(network, optimizer, train_loader, test_loader, 'elu') #Entrenas la red. IMPORTANTE: el número de épocas siempre debe ser el mismo (internamente son 20 épocas)"
      ],
      "metadata": {
        "id": "3-m6j_nmTLlW",
        "colab": {
          "base_uri": "https://localhost:8080/"
        },
        "outputId": "3664f6e6-0974-4303-824e-025cdca9e6ab"
      },
      "execution_count": null,
      "outputs": [
        {
          "output_type": "stream",
          "name": "stdout",
          "text": [
            "Epoch: 01 | Epoch Time: 0m 13s\n",
            "\tTrain Loss: 1.706 | Train Acc: 61.48%\n",
            "\t Val. Loss: 0.619 |  Val. Acc: 75.20%\n",
            "Epoch: 02 | Epoch Time: 0m 10s\n",
            "\tTrain Loss: 0.523 | Train Acc: 80.20%\n",
            "\t Val. Loss: 0.493 |  Val. Acc: 81.48%\n",
            "Epoch: 03 | Epoch Time: 0m 10s\n",
            "\tTrain Loss: 0.431 | Train Acc: 84.29%\n",
            "\t Val. Loss: 0.461 |  Val. Acc: 83.37%\n",
            "Epoch: 04 | Epoch Time: 0m 10s\n",
            "\tTrain Loss: 0.388 | Train Acc: 85.64%\n",
            "\t Val. Loss: 0.408 |  Val. Acc: 85.32%\n",
            "Epoch: 05 | Epoch Time: 0m 10s\n",
            "\tTrain Loss: 0.354 | Train Acc: 86.79%\n",
            "\t Val. Loss: 0.407 |  Val. Acc: 85.67%\n",
            "Epoch: 06 | Epoch Time: 0m 10s\n",
            "\tTrain Loss: 0.336 | Train Acc: 87.55%\n",
            "\t Val. Loss: 0.375 |  Val. Acc: 86.33%\n",
            "Epoch: 07 | Epoch Time: 0m 10s\n",
            "\tTrain Loss: 0.304 | Train Acc: 88.71%\n",
            "\t Val. Loss: 0.373 |  Val. Acc: 86.90%\n",
            "Epoch: 08 | Epoch Time: 0m 10s\n",
            "\tTrain Loss: 0.307 | Train Acc: 88.65%\n",
            "\t Val. Loss: 0.367 |  Val. Acc: 86.99%\n",
            "Epoch: 09 | Epoch Time: 0m 10s\n",
            "\tTrain Loss: 0.278 | Train Acc: 89.70%\n",
            "\t Val. Loss: 0.361 |  Val. Acc: 87.33%\n",
            "Epoch: 10 | Epoch Time: 0m 10s\n",
            "\tTrain Loss: 0.272 | Train Acc: 89.89%\n",
            "\t Val. Loss: 0.349 |  Val. Acc: 87.68%\n",
            "Epoch: 11 | Epoch Time: 0m 10s\n",
            "\tTrain Loss: 0.272 | Train Acc: 89.84%\n",
            "\t Val. Loss: 0.373 |  Val. Acc: 86.97%\n",
            "Epoch: 12 | Epoch Time: 0m 10s\n",
            "\tTrain Loss: 0.256 | Train Acc: 90.46%\n",
            "\t Val. Loss: 0.361 |  Val. Acc: 87.43%\n",
            "Epoch: 13 | Epoch Time: 0m 10s\n",
            "\tTrain Loss: 0.245 | Train Acc: 90.88%\n",
            "\t Val. Loss: 0.365 |  Val. Acc: 86.94%\n",
            "Epoch: 14 | Epoch Time: 0m 10s\n",
            "\tTrain Loss: 0.240 | Train Acc: 91.07%\n",
            "\t Val. Loss: 0.348 |  Val. Acc: 88.05%\n",
            "Epoch: 15 | Epoch Time: 0m 10s\n",
            "\tTrain Loss: 0.224 | Train Acc: 91.71%\n",
            "\t Val. Loss: 0.343 |  Val. Acc: 88.44%\n",
            "Epoch: 16 | Epoch Time: 0m 10s\n",
            "\tTrain Loss: 0.223 | Train Acc: 91.68%\n",
            "\t Val. Loss: 0.348 |  Val. Acc: 88.24%\n",
            "Epoch: 17 | Epoch Time: 0m 10s\n",
            "\tTrain Loss: 0.206 | Train Acc: 92.34%\n",
            "\t Val. Loss: 0.361 |  Val. Acc: 87.60%\n",
            "Epoch: 18 | Epoch Time: 0m 10s\n",
            "\tTrain Loss: 0.206 | Train Acc: 92.39%\n",
            "\t Val. Loss: 0.350 |  Val. Acc: 88.33%\n",
            "Epoch: 19 | Epoch Time: 0m 10s\n",
            "\tTrain Loss: 0.202 | Train Acc: 92.47%\n",
            "\t Val. Loss: 0.341 |  Val. Acc: 88.94%\n",
            "Epoch: 20 | Epoch Time: 0m 10s\n",
            "\tTrain Loss: 0.192 | Train Acc: 92.99%\n",
            "\t Val. Loss: 0.406 |  Val. Acc: 86.83%\n",
            "Test Loss: 0.341 | Mejor test acc: 88.94%\n"
          ]
        }
      ]
    },
    {
      "cell_type": "code",
      "source": [
        "plt.figure()\n",
        "plt.plot(elu_train_loss, color='b', label='Train Loss')\n",
        "plt.plot(elu_valid_loss, color='r', label='Valid loss')\n",
        "plt.title('Loss function for ELU activation function')\n",
        "plt.xlabel('Epochs')\n",
        "plt.ylabel('Loss')\n",
        "plt.legend()\n",
        "plt.show()"
      ],
      "metadata": {
        "colab": {
          "base_uri": "https://localhost:8080/",
          "height": 295
        },
        "id": "1uAca0vuTZh2",
        "outputId": "38fa2b35-49f8-40f1-e809-8389a9b4603e"
      },
      "execution_count": null,
      "outputs": [
        {
          "output_type": "display_data",
          "data": {
            "text/plain": [
              "<Figure size 432x288 with 1 Axes>"
            ],
            "image/png": "[encoded data removed]"
          },
          "metadata": {
            "needs_background": "light"
          }
        }
      ]
    },
    {
      "cell_type": "markdown",
      "source": [
        "## Comentarios\n",
        "\n",
        "Exponential Linear Unit (ELU) es una función de activación la cual se define como $f(x) = x$ para $x > 0$ y $f(x) = α * (exp(x) - 1)$ para $x ≤ 0$.\n",
        "\n",
        "Algunas caraterísticas de esta función es que es continuamente diferenciable. Al igual que las funciones anteriores produce valores negativos que permite un mejor operación en backward propagation. A diferencia de Leaky ReLU, ante valores negativos, esta función esta acotada por lo que se impide un desbalance del modelo respecto a los distintos inputs. Sin embargo esta función depende de un parametro $α$ y es costosa computacionalmente.\n",
        "\n",
        "Se obtiene mejores resultados si comparamos con la función sigmoid por las razones mencionadas anteriormente.\n",
        "\n",
        "Con el modelo 1 se alcanza un test loss: 0.341 y un mejor test acc: 88.94%\n",
        "\n",
        "Con el modelo 2 se alcanza un test loss: 0.492 y un mejor test acc: 82.80%"
      ],
      "metadata": {
        "id": "ULpfbzs9RzNT"
      }
    },
    {
      "cell_type": "markdown",
      "source": [
        "# SiLU"
      ],
      "metadata": {
        "id": "24kgE47gS0fq"
      }
    },
    {
      "cell_type": "code",
      "source": [
        "#Creamos la red neuronal\n",
        "import torch.nn as nn\n",
        "import torch.nn.functional as F\n",
        "import torch.optim as optim\n",
        "\n",
        "class NetSilu(nn.Module):\n",
        "  def __init__(self):\n",
        "    super(NetSilu, self).__init__()\n",
        "\n",
        "    # Modelo 1\n",
        "    self.fc1 = nn.Linear(784, 1024)\n",
        "    self.fc2 = nn.Linear(1024, 512)\n",
        "    self.fc3 = nn.Linear(512, 64)\n",
        "    self.fc4 = nn.Linear(64, 10)\n",
        "\n",
        "    # Modelo 2\n",
        "    #self.fc1 = nn.Linear(784, 5)\n",
        "    #self.fc2 = nn.Linear(5, 10)\n",
        "    \n",
        "    \n",
        "  def forward(self, x):\n",
        "    batch_size = x.shape[0]\n",
        "    x = x.view(batch_size, -1)\n",
        "    m = nn.SiLU()\n",
        "\n",
        "    # Modelo 1\n",
        "    h_1 = m(self.fc1(x))\n",
        "    h_2 = m(self.fc2(h_1))\n",
        "    h_3 = m(self.fc3(h_2))\n",
        "    y_pred = self.fc4(h_3)\n",
        "\n",
        "    # Modelo 2\n",
        "    #h_1 = m(self.fc1(x))\n",
        "    #y_pred = self.fc2(h_1)\n",
        "    return y_pred\n",
        "  "
      ],
      "metadata": {
        "id": "0qh5M_dlS458"
      },
      "execution_count": null,
      "outputs": []
    },
    {
      "cell_type": "code",
      "source": [
        "iniciar_semillas() # Se inicializan las semillas\n",
        "network = NetSilu() # Creas la red\n",
        "optimizer = optim.Adam(network.parameters(), lr=learning_rate) #Creas el optimizador\n",
        "silu_train_loss, silu_valid_loss = train_complete(network, optimizer, train_loader, test_loader, 'silu') #Entrenas la red. IMPORTANTE: el número de épocas siempre debe ser el mismo (internamente son 20 épocas)"
      ],
      "metadata": {
        "id": "iJCqsv4-TSXA",
        "colab": {
          "base_uri": "https://localhost:8080/"
        },
        "outputId": "3fde804d-6a3d-4061-909d-0ed43e6209ec"
      },
      "execution_count": null,
      "outputs": [
        {
          "output_type": "stream",
          "name": "stdout",
          "text": [
            "Epoch: 01 | Epoch Time: 0m 10s\n",
            "\tTrain Loss: 1.247 | Train Acc: 66.99%\n",
            "\t Val. Loss: 0.507 |  Val. Acc: 81.94%\n",
            "Epoch: 02 | Epoch Time: 0m 10s\n",
            "\tTrain Loss: 0.418 | Train Acc: 84.71%\n",
            "\t Val. Loss: 0.399 |  Val. Acc: 85.69%\n",
            "Epoch: 03 | Epoch Time: 0m 10s\n",
            "\tTrain Loss: 0.363 | Train Acc: 86.72%\n",
            "\t Val. Loss: 0.387 |  Val. Acc: 86.21%\n",
            "Epoch: 04 | Epoch Time: 0m 10s\n",
            "\tTrain Loss: 0.332 | Train Acc: 87.68%\n",
            "\t Val. Loss: 0.385 |  Val. Acc: 86.07%\n",
            "Epoch: 05 | Epoch Time: 0m 10s\n",
            "\tTrain Loss: 0.309 | Train Acc: 88.57%\n",
            "\t Val. Loss: 0.356 |  Val. Acc: 87.24%\n",
            "Epoch: 06 | Epoch Time: 0m 10s\n",
            "\tTrain Loss: 0.295 | Train Acc: 89.07%\n",
            "\t Val. Loss: 0.345 |  Val. Acc: 87.83%\n",
            "Epoch: 07 | Epoch Time: 0m 10s\n",
            "\tTrain Loss: 0.274 | Train Acc: 89.74%\n",
            "\t Val. Loss: 0.348 |  Val. Acc: 87.66%\n",
            "Epoch: 08 | Epoch Time: 0m 10s\n",
            "\tTrain Loss: 0.265 | Train Acc: 90.29%\n",
            "\t Val. Loss: 0.342 |  Val. Acc: 87.88%\n",
            "Epoch: 09 | Epoch Time: 0m 10s\n",
            "\tTrain Loss: 0.252 | Train Acc: 90.48%\n",
            "\t Val. Loss: 0.359 |  Val. Acc: 87.41%\n",
            "Epoch: 10 | Epoch Time: 0m 10s\n",
            "\tTrain Loss: 0.242 | Train Acc: 90.92%\n",
            "\t Val. Loss: 0.343 |  Val. Acc: 88.29%\n",
            "Epoch: 11 | Epoch Time: 0m 10s\n",
            "\tTrain Loss: 0.242 | Train Acc: 91.09%\n",
            "\t Val. Loss: 0.356 |  Val. Acc: 87.50%\n",
            "Epoch: 12 | Epoch Time: 0m 10s\n",
            "\tTrain Loss: 0.227 | Train Acc: 91.33%\n",
            "\t Val. Loss: 0.353 |  Val. Acc: 88.13%\n",
            "Epoch: 13 | Epoch Time: 0m 10s\n",
            "\tTrain Loss: 0.213 | Train Acc: 92.00%\n",
            "\t Val. Loss: 0.366 |  Val. Acc: 87.60%\n",
            "Epoch: 14 | Epoch Time: 0m 11s\n",
            "\tTrain Loss: 0.221 | Train Acc: 91.67%\n",
            "\t Val. Loss: 0.372 |  Val. Acc: 87.44%\n",
            "Epoch: 15 | Epoch Time: 0m 10s\n",
            "\tTrain Loss: 0.215 | Train Acc: 91.97%\n",
            "\t Val. Loss: 0.362 |  Val. Acc: 87.76%\n",
            "Epoch: 16 | Epoch Time: 0m 10s\n",
            "\tTrain Loss: 0.202 | Train Acc: 92.44%\n",
            "\t Val. Loss: 0.356 |  Val. Acc: 88.51%\n",
            "Epoch: 17 | Epoch Time: 0m 10s\n",
            "\tTrain Loss: 0.194 | Train Acc: 92.82%\n",
            "\t Val. Loss: 0.358 |  Val. Acc: 87.82%\n",
            "Epoch: 18 | Epoch Time: 0m 10s\n",
            "\tTrain Loss: 0.186 | Train Acc: 93.03%\n",
            "\t Val. Loss: 0.367 |  Val. Acc: 88.04%\n",
            "Epoch: 19 | Epoch Time: 0m 10s\n",
            "\tTrain Loss: 0.176 | Train Acc: 93.43%\n",
            "\t Val. Loss: 0.388 |  Val. Acc: 88.19%\n",
            "Epoch: 20 | Epoch Time: 0m 10s\n",
            "\tTrain Loss: 0.175 | Train Acc: 93.41%\n",
            "\t Val. Loss: 0.381 |  Val. Acc: 88.12%\n",
            "Test Loss: 0.356 | Mejor test acc: 88.51%\n"
          ]
        }
      ]
    },
    {
      "cell_type": "code",
      "source": [
        "plt.figure()\n",
        "plt.plot(silu_train_loss, color='b', label='Train Loss')\n",
        "plt.plot(silu_valid_loss, color='r', label='Valid loss')\n",
        "plt.title('Loss function for SiLU activation function')\n",
        "plt.xlabel('Epochs')\n",
        "plt.ylabel('Loss')\n",
        "plt.legend()\n",
        "plt.show()"
      ],
      "metadata": {
        "colab": {
          "base_uri": "https://localhost:8080/",
          "height": 295
        },
        "id": "KTcup_DzTpx5",
        "outputId": "4c18a874-52a0-4cc6-c3db-42ca2542a962"
      },
      "execution_count": null,
      "outputs": [
        {
          "output_type": "display_data",
          "data": {
            "text/plain": [
              "<Figure size 432x288 with 1 Axes>"
            ],
            "image/png": "[encoded data removed]"
          },
          "metadata": {
            "needs_background": "light"
          }
        }
      ]
    },
    {
      "cell_type": "markdown",
      "source": [
        "## Comentarios\n",
        "\n",
        "Sigmoid Linear Unit (SiLU) es una función de activación dada por $f(x) = x * σ(x)$ donde $σ(x)$ corresponde al logistic sigmoid.\n",
        "\n",
        "Esta función, al igual que Mish, no es en estricto rigor monótona. También tiene valores negativos que mejora la operacion de backward propagation. El hecho de no ser monótona implica que el resultado puede ir bajando a medida que el input aumenta. Al igual que las otras funciones es costosa computacionalmente.\n",
        "\n",
        "Se obtiene mejores resultados si comparamos con la función sigmoid por las razones mencionadas anteriormente.\n",
        "\n",
        "Con el modelo 1 se alcanza un test Loss: 0.356 y un mejor test acc: 88.51%\n",
        "\n",
        "Con el modelo 2 se alcanza un test Loss: 0.508 y un mejor test acc: 82.82%"
      ],
      "metadata": {
        "id": "CMJoWIUzR6JD"
      }
    },
    {
      "cell_type": "markdown",
      "source": [
        "# Resultados\n",
        "\n",
        "## Modelo 1\n",
        "| Función de activación | Test Loss | Mejor test accuracy |\n",
        "| :--- | :---: | ---: |\n",
        "| Sigmoid | 0.375 | 87.08% |\n",
        "| Leaky ReLU | 0.331 | 88.57% |\n",
        "| Mish | 0.365 | 88.64% |\n",
        "| ELU | 0.341 | 88.94% |\n",
        "| SiLU | 0.356 | 88.51% |\n",
        "\n",
        "## Modelo 2\n",
        "| Función de activación | Test Loss | Mejor test accuracy |\n",
        "| :--- | :---: | ---: |\n",
        "| Sigmoid | 0.556 | 82.11% |\n",
        "| Leaky ReLU | 0.490 | 83.08% |\n",
        "| Mish | 0.495 | 83.03% |\n",
        "| ELU | 0.492 | 82.80% |\n",
        "| SiLU | 0.508 | 82.82% |\n",
        "\n",
        "Hechos estos experimentos se hacen algunas observaciones, estas son que los mejores resultados se obtuvieron con la función de activación ELU para el modelo 1 y la función Mish para el modelo 2, además todas estas funciones superaron el test accuracy de aquel modelo que presenta la funcion sigmoid.\n",
        "\n",
        "Para el modelo 2 nos apoyamos de forma más significativa en las funciones de activación dado que la capacidad de aprendizaje de la red es menor. Aquí Leaky ReLu y Mish obtuvieron los mejores resultados mientras que, para el modelo 1, Mish y ELU obtuvieron los mejores resultados.\n",
        "\n",
        "Existen estudios externos que demuestran que Mish obtiene los mejores resultados sin embargo la función ReLU es la que se usa generalmente y, si los resultados no son los deseables, se puede probar con otras para hacer frente al problema de \"vanishing gradients\"."
      ],
      "metadata": {
        "id": "Ivk3bej6S-h7"
      }
    }
  ]
}